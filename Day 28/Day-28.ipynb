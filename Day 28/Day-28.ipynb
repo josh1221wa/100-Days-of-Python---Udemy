{
 "cells": [
  {
   "cell_type": "markdown",
   "metadata": {},
   "source": [
    "# Day 28\n",
    "\n",
    "## Tkinter Canvas Widget and adding Images.\n",
    "\n",
    "A canvas widget is like a real life canvas. It allows you to layer things on top of each other so like add an image then add some text on top of it. It's a blank space that you can draw on.\n",
    "\n",
    "We can create a canvas with the Canvas class. We can set the width and height of the canvas with the width and height parameters. \n",
    "\n",
    "We can add an image to the canvas using the create_image method. The first two parameters are the x and y coordinates of where we want to place the image. \n",
    "\n",
    "The third parameter is the image but we can't directly pass the image. We need to use the PhotoImage class to create a photo image object. We can then pass that object to the create_image method. The PhotoImage class constructor will take the file location as a parameter."
   ]
  },
  {
   "attachments": {},
   "cell_type": "markdown",
   "metadata": {},
   "source": [
    "# Day 29 Preview Content\n",
    "\n",
    "## Standard Dialoges\n",
    "\n",
    "We can send messageboxes in tkinter at an action or an event using the messagebox module. We can use the showinfo, showwarning, showerror, askquestion, askokcancel, askyesno, askretrycancel methods for different situations. We will get an output from some of these which we can use in our program.\n",
    "\n",
    "For all the methods we can pass a title and a message. For more information on the methods check out the documentation.\n",
    "\n"
   ]
  }
 ],
 "metadata": {
  "kernelspec": {
   "display_name": "Python 3.10.6 ('Udemy_Python_100Days')",
   "language": "python",
   "name": "python3"
  },
  "language_info": {
   "name": "python",
   "version": "3.10.6 | packaged by conda-forge | (main, Oct 24 2022, 16:02:16) [MSC v.1916 64 bit (AMD64)]"
  },
  "orig_nbformat": 4,
  "vscode": {
   "interpreter": {
    "hash": "1828ef83a9039e523bcd3f28ee015f286e747c7d84db353da49e263841e85bfe"
   }
  }
 },
 "nbformat": 4,
 "nbformat_minor": 2
}
