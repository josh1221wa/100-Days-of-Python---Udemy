{
 "cells": [
  {
   "cell_type": "markdown",
   "metadata": {},
   "source": [
    "# Day 28\n",
    "\n",
    "## Tkinter Canvas Widget and adding Images.\n",
    "\n",
    "A canvas widget is like a real life canvas. It allows you to layer things on top of each other so like add an image then add some text on top of it. It's a blank space that you can draw on.\n",
    "\n",
    "We can create a canvas with the Canvas class. We can set the width and height of the canvas with the width and height parameters. \n",
    "\n",
    "We can add an image to the canvas using the create_image method. The first two parameters are the x and y coordinates of where we want to place the image. \n",
    "\n",
    "The third parameter is the image but we can't directly pass the image. We need to use the PhotoImage class to create a photo image object. We can then pass that object to the create_image method. The PhotoImage class constructor will take the file location as a parameter."
   ]
  }
 ],
 "metadata": {
  "kernelspec": {
   "display_name": "Python 3.10.6 ('Udemy_Python_100Days')",
   "language": "python",
   "name": "python3"
  },
  "language_info": {
   "name": "python",
   "version": "3.10.6"
  },
  "orig_nbformat": 4,
  "vscode": {
   "interpreter": {
    "hash": "1828ef83a9039e523bcd3f28ee015f286e747c7d84db353da49e263841e85bfe"
   }
  }
 },
 "nbformat": 4,
 "nbformat_minor": 2
}
