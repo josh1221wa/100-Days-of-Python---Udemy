{
 "cells": [
  {
   "cell_type": "markdown",
   "metadata": {
    "tags": []
   },
   "source": [
    "# Day 4\n",
    "\n",
    "## What is a module?\n",
    "\n",
    "Till now we have written small pieces of code which can be fit in one python file. But if we write larger codes it becomes hard to read and fix bugs, etc so we split them into modules where each module is responsible for different module working on different things.\n",
    "\n",
    "So above, the random module has been created by the python team beforehand and it already contains all the code needed to generate random numbers.\n",
    "\n",
    "## How do I make my own modules?\n",
    "\n",
    "We have our main.py program that we run when we want to run our programs. If we make another program my_module.py with a variable inside it that we want to use in main.py then we can import that file into our main.py using, \n",
    "\n",
    "> import my_module\n",
    "\n",
    "This functionality will be shown in the examples folder for Day 4"
   ]
  },
  {
   "cell_type": "markdown",
   "metadata": {},
   "source": [
    "## Randomization\n",
    "\n",
    "When we want to create programs with unpredictability(eg. games) we use randomization. Computers are made to repeate actions in a predictable way. \n",
    "\n",
    "But there are some mathematical algorithms which can be used to generate numbers. These are called **Pseudo-random number generators**.\n",
    "\n",
    "But if we try to recreate that algorithm in our code it will be difficult as its many lines and hard to understand. So instead we use the **random** module which can be used to find random numbers with certain functions. \n",
    "\n",
    "To use the random module we just need to import it."
   ]
  },
  {
   "cell_type": "code",
   "execution_count": 52,
   "metadata": {},
   "outputs": [],
   "source": [
    "import random"
   ]
  },
  {
   "cell_type": "markdown",
   "metadata": {},
   "source": [
    "To get a random number we can use the randint() function with 2 arguments. The function will return a value between or equal to those 2 numbers. Each time we run it, it will give us a different value."
   ]
  },
  {
   "cell_type": "code",
   "execution_count": 53,
   "metadata": {},
   "outputs": [
    {
     "name": "stdout",
     "output_type": "stream",
     "text": [
      "8\n"
     ]
    }
   ],
   "source": [
    "import random\n",
    "\n",
    "random_number = random.randint(1, 10)\n",
    "print(random_number)"
   ]
  },
  {
   "cell_type": "markdown",
   "metadata": {},
   "source": [
    "To get a random decimal number we use the random() function. This returns a value from 0.0 - 1.0(excluding 1.0). By default, it needs no arguments."
   ]
  },
  {
   "cell_type": "code",
   "execution_count": 54,
   "metadata": {},
   "outputs": [
    {
     "name": "stdout",
     "output_type": "stream",
     "text": [
      "0.1960032436189374\n"
     ]
    }
   ],
   "source": [
    "import random\n",
    "\n",
    "random_number = random.random()\n",
    "print(random_number)"
   ]
  },
  {
   "cell_type": "markdown",
   "metadata": {},
   "source": [
    "### What if we want a random decimal from 0 - n?\n",
    "\n",
    "We can just use random() function and multiply it by n. So it will never go above n as random() gives uptil 1."
   ]
  },
  {
   "cell_type": "code",
   "execution_count": 55,
   "metadata": {},
   "outputs": [
    {
     "name": "stdout",
     "output_type": "stream",
     "text": [
      "4.667010419157412\n"
     ]
    }
   ],
   "source": [
    "import random\n",
    "\n",
    "# Random number from 0 to 5\n",
    "random_number = 5 * random.random()\n",
    "print(random_number)"
   ]
  },
  {
   "cell_type": "markdown",
   "metadata": {},
   "source": [
    "## Python Lists\n",
    "\n",
    "Till now we have been able to store one piece of data(eg, a number or a string) in one variable. But what if we want to store multiple pieces of data in one variable(eg. all the states in one variable).\n",
    "\n",
    "We can use **lists** for this. The look like this\n",
    "> fruits = [apple, orange]\n",
    "\n",
    "Lists always start with [ and ends with ]. We can have any datatype in a list. So above, the fruits variable can be used to access the list.\n",
    "\n",
    "The order of elements in a list is important. When we make the list the order is not lost. "
   ]
  },
  {
   "cell_type": "code",
   "execution_count": 56,
   "metadata": {},
   "outputs": [
    {
     "name": "stdout",
     "output_type": "stream",
     "text": [
      "['apple', 'peaches', 'grapes', 'oranges']\n"
     ]
    }
   ],
   "source": [
    "fruits = [\"apple\", \"peaches\", \"grapes\", \"oranges\"]\n",
    "\n",
    "print(fruits)"
   ]
  },
  {
   "cell_type": "markdown",
   "metadata": {},
   "source": [
    "As we can see the order of elements is the same as when we created it.\n",
    "\n",
    "Since the order is fixed we can get each element using the index number of the element. Indexes start from 0. So the first item in the list has index 0.\n",
    "To get the data we just use [] with the list variable and we put the index inside []."
   ]
  },
  {
   "cell_type": "code",
   "execution_count": 57,
   "metadata": {},
   "outputs": [
    {
     "name": "stdout",
     "output_type": "stream",
     "text": [
      "apple\n",
      "peaches\n"
     ]
    }
   ],
   "source": [
    "print(fruits[0])\n",
    "print(fruits[1])"
   ]
  },
  {
   "cell_type": "markdown",
   "metadata": {},
   "source": [
    "We can also use negative indexing in python. So suppose we take -1 index we get the element at the very end of the list. -2 gives the one before it, etc."
   ]
  },
  {
   "cell_type": "code",
   "execution_count": 58,
   "metadata": {},
   "outputs": [
    {
     "name": "stdout",
     "output_type": "stream",
     "text": [
      "oranges\n",
      "grapes\n"
     ]
    }
   ],
   "source": [
    "print(fruits[-1])\n",
    "print(fruits[-2])"
   ]
  },
  {
   "cell_type": "markdown",
   "metadata": {},
   "source": [
    "Suppose we want to change a value at a specific index. We can just use to index to change the value."
   ]
  },
  {
   "cell_type": "code",
   "execution_count": 59,
   "metadata": {},
   "outputs": [
    {
     "name": "stdout",
     "output_type": "stream",
     "text": [
      "['apple', 'watermelon', 'grapes', 'oranges']\n"
     ]
    }
   ],
   "source": [
    "fruits[1] = \"watermelon\"\n",
    "print(fruits)"
   ]
  },
  {
   "cell_type": "markdown",
   "metadata": {},
   "source": [
    "Here we see that peaches has changed to watermelon in the list.\n",
    "\n",
    "If we want to add an item to the end of the list we can use the .append() function."
   ]
  },
  {
   "cell_type": "code",
   "execution_count": 60,
   "metadata": {},
   "outputs": [
    {
     "name": "stdout",
     "output_type": "stream",
     "text": [
      "['apple', 'watermelon', 'grapes', 'oranges', 'peaches']\n"
     ]
    }
   ],
   "source": [
    "fruits.append(\"peaches\")\n",
    "\n",
    "print(fruits)"
   ]
  },
  {
   "cell_type": "markdown",
   "metadata": {},
   "source": [
    "If we want to extend one list with the elements in another we can use the extend() function."
   ]
  },
  {
   "cell_type": "code",
   "execution_count": 61,
   "metadata": {},
   "outputs": [
    {
     "name": "stdout",
     "output_type": "stream",
     "text": [
      "['apple', 'watermelon', 'grapes', 'oranges', 'peaches', 'crab apples', 'green apples']\n"
     ]
    }
   ],
   "source": [
    "fruits_apples = [\"crab apples\", \"green apples\"]\n",
    "fruits.extend(fruits_apples)\n",
    "print(fruits)"
   ]
  },
  {
   "cell_type": "markdown",
   "metadata": {},
   "source": [
    "To find length of the list we can use the len() function.\n",
    "\n",
    "**Note**: This gives the number of elements in the list. The last index in this will be the length-1."
   ]
  },
  {
   "cell_type": "code",
   "execution_count": 62,
   "metadata": {},
   "outputs": [
    {
     "name": "stdout",
     "output_type": "stream",
     "text": [
      "7\n"
     ]
    }
   ],
   "source": [
    "print(len(fruits))"
   ]
  },
  {
   "cell_type": "markdown",
   "metadata": {},
   "source": [
    "There are many more functions with lists which we can read in the python documentation."
   ]
  },
  {
   "cell_type": "markdown",
   "metadata": {},
   "source": [
    "### IndexErrors\n",
    "\n",
    "We get this error when we try to get value from an index that is not in the list."
   ]
  },
  {
   "cell_type": "code",
   "execution_count": 63,
   "metadata": {},
   "outputs": [
    {
     "ename": "IndexError",
     "evalue": "list index out of range",
     "output_type": "error",
     "traceback": [
      "\u001b[1;31m---------------------------------------------------------------------------\u001b[0m",
      "\u001b[1;31mIndexError\u001b[0m                                Traceback (most recent call last)",
      "Input \u001b[1;32mIn [63]\u001b[0m, in \u001b[0;36m<cell line: 1>\u001b[1;34m()\u001b[0m\n\u001b[1;32m----> 1\u001b[0m \u001b[38;5;28mprint\u001b[39m(\u001b[43mfruits\u001b[49m\u001b[43m[\u001b[49m\u001b[38;5;241;43m27\u001b[39;49m\u001b[43m]\u001b[49m)\n",
      "\u001b[1;31mIndexError\u001b[0m: list index out of range"
     ]
    }
   ],
   "source": [
    "print(fruits[27])"
   ]
  },
  {
   "cell_type": "markdown",
   "metadata": {},
   "source": [
    "We can see that the error has occured because for index 27 to be in the list we need to have 28 or more items. This is more common in larger lists. Mostly its off by 1 index because index starts with 0."
   ]
  },
  {
   "cell_type": "markdown",
   "metadata": {},
   "source": [
    "### Nested Lists\n",
    "\n",
    "We can have a list inside another list. This are nested lists."
   ]
  },
  {
   "cell_type": "code",
   "execution_count": 64,
   "metadata": {},
   "outputs": [
    {
     "name": "stdout",
     "output_type": "stream",
     "text": [
      "[['apple', 'strawberry', 'peaches'], ['carrots', 'tomatoes']]\n"
     ]
    }
   ],
   "source": [
    "fruits = [\"apple\", \"strawberry\", \"peaches\"]\n",
    "vegetables = [\"carrots\", \"tomatoes\"]\n",
    "\n",
    "eatables = [fruits, vegetables]\n",
    "print(eatables)"
   ]
  },
  {
   "cell_type": "markdown",
   "metadata": {},
   "source": [
    "To access an item inside a nested list we can again use indexing but a little differently."
   ]
  },
  {
   "cell_type": "code",
   "execution_count": 65,
   "metadata": {},
   "outputs": [
    {
     "name": "stdout",
     "output_type": "stream",
     "text": [
      "['apple', 'strawberry', 'peaches']\n",
      "strawberry\n"
     ]
    }
   ],
   "source": [
    "print(eatables[0])\n",
    "print(eatables[0][1])"
   ]
  },
  {
   "cell_type": "markdown",
   "metadata": {},
   "source": [
    "When we do the first line we get one list because the first item in eatables is a list. To access the elements inside that we use one more index."
   ]
  }
 ],
 "metadata": {
  "kernelspec": {
   "display_name": "Python 3 (ipykernel)",
   "language": "python",
   "name": "python3"
  },
  "language_info": {
   "codemirror_mode": {
    "name": "ipython",
    "version": 3
   },
   "file_extension": ".py",
   "mimetype": "text/x-python",
   "name": "python",
   "nbconvert_exporter": "python",
   "pygments_lexer": "ipython3",
   "version": "3.10.4"
  },
  "vscode": {
   "interpreter": {
    "hash": "3fdbe576eb87f4baba6a23725f58c8da03c0612f6b5c93b1de163eb7f05251e9"
   }
  }
 },
 "nbformat": 4,
 "nbformat_minor": 4
}
