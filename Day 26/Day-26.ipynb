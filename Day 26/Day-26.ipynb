{
 "cells": [
  {
   "cell_type": "markdown",
   "metadata": {},
   "source": [
    "# Day 26\n",
    "\n",
    "## List Comprehensions\n",
    "\n",
    "Helps to shorten our code when we create lists or get data from another list.\n",
    "\n",
    "### Syntax\n",
    "\n",
    "```python\n",
    "new_list = [new_item for item in list]\n",
    "```"
   ]
  },
  {
   "cell_type": "code",
   "execution_count": 1,
   "metadata": {},
   "outputs": [
    {
     "name": "stdout",
     "output_type": "stream",
     "text": [
      "[2, 3, 4]\n"
     ]
    }
   ],
   "source": [
    "numbers = [1, 2, 3]\n",
    "new_list = [n+1 for n in numbers]\n",
    "print(new_list)"
   ]
  },
  {
   "cell_type": "markdown",
   "metadata": {},
   "source": [
    "We can use list comprehensions with any iterables like lists, tuples, sets, dictionaries, or even strings."
   ]
  },
  {
   "cell_type": "code",
   "execution_count": 2,
   "metadata": {},
   "outputs": [
    {
     "name": "stdout",
     "output_type": "stream",
     "text": [
      "['J', 'o', 's', 'h', 'u', 'a']\n"
     ]
    }
   ],
   "source": [
    "TEXT = \"Joshua\"\n",
    "new_list = [n for n in TEXT]\n",
    "print(new_list)"
   ]
  },
  {
   "cell_type": "code",
   "execution_count": 1,
   "metadata": {},
   "outputs": [
    {
     "name": "stdout",
     "output_type": "stream",
     "text": [
      "[2, 4, 6, 8, 10]\n"
     ]
    }
   ],
   "source": [
    "# Create a list with the numbers from 1 to 5 but doubled.\n",
    "\n",
    "new_list = [i*2 for i in range(1, 6)]\n",
    "print(new_list)"
   ]
  },
  {
   "cell_type": "markdown",
   "metadata": {},
   "source": [
    "## Conditional List Comprehension\n",
    "\n",
    "We can filter the items that go into the list using the if keyword in our list comprehension.\n",
    "\n",
    "```python\n",
    "new_list = [new_item for item in list if test]\n",
    "```\n"
   ]
  },
  {
   "cell_type": "code",
   "execution_count": 2,
   "metadata": {},
   "outputs": [
    {
     "name": "stdout",
     "output_type": "stream",
     "text": [
      "['Alex', 'Beth', 'John']\n"
     ]
    }
   ],
   "source": [
    "names = [\"Alex\", \"Beth\", \"Eleanor\", \"Jacob\", \"Johnny\", \"John\"]\n",
    "\n",
    "# Create a list with the names which have 4 letters or less.\n",
    "\n",
    "new_list = [name for name in names if (len(name)<=4)]\n",
    "print(new_list)"
   ]
  },
  {
   "cell_type": "markdown",
   "metadata": {},
   "source": [
    "## Dictionary Comprehension\n",
    "\n",
    "Helps to create a new dictionary from a list. \n",
    "\n",
    "```python\n",
    "new_dict = {new_key:new_value for item in list}\n",
    "```\n",
    "\n",
    "We could create a new dictionary based on the elements of an existing dictionary.\n",
    "\n",
    "```python\n",
    "new_dict = {new_student:new_value for (key,value) in dict.items()}\n",
    "```\n",
    "\n",
    "We can use conditional dictionary comprehension too for this case.\n",
    "\n",
    "```python\n",
    "new_dict = {new_key:new_value for (key,value) in dict.items() if test}\n",
    "```"
   ]
  },
  {
   "cell_type": "code",
   "execution_count": 6,
   "metadata": {},
   "outputs": [
    {
     "name": "stdout",
     "output_type": "stream",
     "text": [
      "{'Alex': 87, 'Beth': 59, 'Eleanor': 51, 'Jacob': 16, 'Johnny': 27, 'John': 70}\n",
      "{'Alex': 87, 'John': 70}\n"
     ]
    }
   ],
   "source": [
    "# Add a random score to each student in a list and add to a dictionary\n",
    "\n",
    "import random\n",
    "\n",
    "names = [\"Alex\", \"Beth\", \"Eleanor\", \"Jacob\", \"Johnny\", \"John\"]\n",
    "\n",
    "new_dict = {student:random.randint(1, 100) for student in names}\n",
    "print(new_dict)\n",
    "\n",
    "# Create a new dictionary and all people who have score of 60 or over must be added\n",
    "\n",
    "passed_students = {student:score for (student, score) in new_dict.items() if score>60}\n",
    "print(passed_students)"
   ]
  },
  {
   "cell_type": "markdown",
   "metadata": {},
   "source": [
    "## How to iterate over a pandas dataframe\n",
    "\n",
    "There is an iterrows() method that we can use to iterate over a pandas dataframe row by row. The iterrows method returns an object we can iterate through. Each iteration returns a tuple with the index of the row and the data in the row as a pandas series."
   ]
  },
  {
   "cell_type": "code",
   "execution_count": 26,
   "metadata": {},
   "outputs": [
    {
     "name": "stdout",
     "output_type": "stream",
     "text": [
      "Alex 87\n",
      "James 65\n",
      "John 42\n"
     ]
    }
   ],
   "source": [
    "import pandas\n",
    "\n",
    "student_dict = {\"student\" : [\"Alex\", \"James\", \"John\"],\n",
    "                \"score\": [87,65,42]}\n",
    "\n",
    "student_df = pandas.DataFrame(student_dict)\n",
    "\n",
    "for (index, row) in student_df.iterrows():\n",
    "    print(row.student, row.score)"
   ]
  }
 ],
 "metadata": {
  "kernelspec": {
   "display_name": "Python 3.10.6 ('Udemy_Python_100Days')",
   "language": "python",
   "name": "python3"
  },
  "language_info": {
   "codemirror_mode": {
    "name": "ipython",
    "version": 3
   },
   "file_extension": ".py",
   "mimetype": "text/x-python",
   "name": "python",
   "nbconvert_exporter": "python",
   "pygments_lexer": "ipython3",
   "version": "3.10.6"
  },
  "orig_nbformat": 4,
  "vscode": {
   "interpreter": {
    "hash": "1828ef83a9039e523bcd3f28ee015f286e747c7d84db353da49e263841e85bfe"
   }
  }
 },
 "nbformat": 4,
 "nbformat_minor": 2
}
