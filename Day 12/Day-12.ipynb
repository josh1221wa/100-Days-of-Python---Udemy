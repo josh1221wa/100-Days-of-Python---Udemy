{
 "cells": [
  {
   "cell_type": "markdown",
   "metadata": {},
   "source": [
    "# Day 12\n",
    "\n",
    "## Scope\n",
    "\n"
   ]
  },
  {
   "cell_type": "code",
   "execution_count": 3,
   "metadata": {},
   "outputs": [
    {
     "name": "stdout",
     "output_type": "stream",
     "text": [
      "No. of enemies is 2\n",
      "No. of enemies is 1\n"
     ]
    }
   ],
   "source": [
    "enemies = 1\n",
    "\n",
    "def increase_enemies():\n",
    "    enemies = 2\n",
    "    print(f\"No. of enemies is {enemies}\")\n",
    "\n",
    "increase_enemies()\n",
    "print(f\"No. of enemies is {enemies}\")"
   ]
  },
  {
   "cell_type": "code",
   "execution_count": 5,
   "metadata": {},
   "outputs": [
    {
     "name": "stdout",
     "output_type": "stream",
     "text": [
      "Potion strength is 2\n"
     ]
    },
    {
     "ename": "NameError",
     "evalue": "name 'potion_strength' is not defined",
     "output_type": "error",
     "traceback": [
      "\u001b[1;31m---------------------------------------------------------------------------\u001b[0m",
      "\u001b[1;31mNameError\u001b[0m                                 Traceback (most recent call last)",
      "Cell \u001b[1;32mIn [5], line 6\u001b[0m\n\u001b[0;32m      3\u001b[0m     \u001b[38;5;28mprint\u001b[39m(\u001b[38;5;124mf\u001b[39m\u001b[38;5;124m\"\u001b[39m\u001b[38;5;124mPotion strength is \u001b[39m\u001b[38;5;132;01m{\u001b[39;00mpotion_strength\u001b[38;5;132;01m}\u001b[39;00m\u001b[38;5;124m\"\u001b[39m)\n\u001b[0;32m      5\u001b[0m drink_potion()\n\u001b[1;32m----> 6\u001b[0m \u001b[38;5;28mprint\u001b[39m(\u001b[38;5;124mf\u001b[39m\u001b[38;5;124m\"\u001b[39m\u001b[38;5;124mPotion strength is \u001b[39m\u001b[38;5;132;01m{\u001b[39;00mpotion_strength\u001b[38;5;132;01m}\u001b[39;00m\u001b[38;5;124m\"\u001b[39m)\n",
      "\u001b[1;31mNameError\u001b[0m: name 'potion_strength' is not defined"
     ]
    }
   ],
   "source": [
    "def drink_potion():\n",
    "    potion_strength = 2\n",
    "    print(f\"Potion strength is {potion_strength}\")\n",
    "\n",
    "drink_potion()\n",
    "print(f\"Potion strength is {potion_strength}\")\n"
   ]
  },
  {
   "cell_type": "markdown",
   "metadata": {},
   "source": [
    "Look at both given codes. In the first code we expect number of enemies to be 2 the second time we call the function. But it's not.\n",
    "\n",
    "In the second code we expect potion_strenth to be printed twice but the first one is printed and then we get an error.\n",
    "\n",
    "This is because of scope. Scope is the region of a program where a variable is visible and accessible. In the first code the variable enemies defined inside the function is different from the enemies outside the function. In the second code the variable potion_strength defined inside the function is not accessible outside the function. All variables have their local scope based on the block they are defined in. If a variable is defined inside a function then it's local to that function."
   ]
  },
  {
   "cell_type": "code",
   "execution_count": 12,
   "metadata": {},
   "outputs": [
    {
     "name": "stdout",
     "output_type": "stream",
     "text": [
      "10\n"
     ]
    }
   ],
   "source": [
    "player_health = 10\n",
    "\n",
    "def drink_potion():\n",
    "        potion_strength = 2\n",
    "        print(int(player_health))\n",
    "\n",
    "drink_potion()"
   ]
  },
  {
   "cell_type": "markdown",
   "metadata": {},
   "source": [
    "Here we don't get error as player_health is defined out of the function because it has global scope wrt to the function as it is defined out of the function.\n",
    "\n",
    "NOTE: If we try to change the value inside the function we get an error only thing we can do is print it."
   ]
  },
  {
   "cell_type": "code",
   "execution_count": 13,
   "metadata": {},
   "outputs": [
    {
     "ename": "UnboundLocalError",
     "evalue": "local variable 'player_health' referenced before assignment",
     "output_type": "error",
     "traceback": [
      "\u001b[1;31m---------------------------------------------------------------------------\u001b[0m",
      "\u001b[1;31mUnboundLocalError\u001b[0m                         Traceback (most recent call last)",
      "Cell \u001b[1;32mIn [13], line 7\u001b[0m\n\u001b[0;32m      4\u001b[0m         player_health \u001b[38;5;241m+\u001b[39m\u001b[38;5;241m=\u001b[39m \u001b[38;5;241m2\u001b[39m\n\u001b[0;32m      5\u001b[0m         \u001b[38;5;28mprint\u001b[39m(\u001b[38;5;28mint\u001b[39m(player_health))\n\u001b[1;32m----> 7\u001b[0m \u001b[43mdrink_potion\u001b[49m\u001b[43m(\u001b[49m\u001b[43m)\u001b[49m\n",
      "Cell \u001b[1;32mIn [13], line 4\u001b[0m, in \u001b[0;36mdrink_potion\u001b[1;34m()\u001b[0m\n\u001b[0;32m      3\u001b[0m \u001b[38;5;28;01mdef\u001b[39;00m \u001b[38;5;21mdrink_potion\u001b[39m():\n\u001b[1;32m----> 4\u001b[0m         player_health \u001b[38;5;241m+\u001b[39m\u001b[38;5;241m=\u001b[39m \u001b[38;5;241m2\u001b[39m\n\u001b[0;32m      5\u001b[0m         \u001b[38;5;28mprint\u001b[39m(\u001b[38;5;28mint\u001b[39m(player_health))\n",
      "\u001b[1;31mUnboundLocalError\u001b[0m: local variable 'player_health' referenced before assignment"
     ]
    }
   ],
   "source": [
    "player_health = 10\n",
    "\n",
    "def drink_potion():\n",
    "        player_health += 2\n",
    "        print(int(player_health))\n",
    "\n",
    "drink_potion()"
   ]
  },
  {
   "cell_type": "markdown",
   "metadata": {},
   "source": [
    "\n",
    "### There is no block scope in python\n",
    "\n",
    "In other languages variables created inside loops or if statements have a separate scope and cannot be used outside the loos or the if blocks.\n",
    "\n",
    "In python there is no such thing."
   ]
  },
  {
   "cell_type": "markdown",
   "metadata": {},
   "source": [
    "## Modifying global scope\n",
    "\n",
    "We can use the global keyword to modify the global scope variable inside a function."
   ]
  },
  {
   "cell_type": "code",
   "execution_count": 14,
   "metadata": {},
   "outputs": [
    {
     "name": "stdout",
     "output_type": "stream",
     "text": [
      "2\n"
     ]
    }
   ],
   "source": [
    "enemies = 1\n",
    "\n",
    "def increase_enemies():\n",
    "    global enemies\n",
    "    enemies = 2\n",
    "\n",
    "increase_enemies()\n",
    "print(enemies)\n"
   ]
  },
  {
   "cell_type": "markdown",
   "metadata": {},
   "source": [
    "Using global keyword is not always good however. It can make the program easily fail sometimes. There is a better alternative however and that is to return the value from the function and then use it."
   ]
  },
  {
   "cell_type": "code",
   "execution_count": 15,
   "metadata": {},
   "outputs": [
    {
     "name": "stdout",
     "output_type": "stream",
     "text": [
      "2\n"
     ]
    }
   ],
   "source": [
    "enemies = 1\n",
    "\n",
    "def increase_enemies():\n",
    "    return enemies+1\n",
    "\n",
    "enemies = increase_enemies()\n",
    "print(enemies)\n"
   ]
  }
 ],
 "metadata": {
  "kernelspec": {
   "display_name": "Python 3.9.13 ('base')",
   "language": "python",
   "name": "python3"
  },
  "language_info": {
   "codemirror_mode": {
    "name": "ipython",
    "version": 3
   },
   "file_extension": ".py",
   "mimetype": "text/x-python",
   "name": "python",
   "nbconvert_exporter": "python",
   "pygments_lexer": "ipython3",
   "version": "3.9.13"
  },
  "orig_nbformat": 4,
  "vscode": {
   "interpreter": {
    "hash": "52a0e7b4f4c9b93c7568b039447b72228aa9ad72b6466ebee46731f7fd73c837"
   }
  }
 },
 "nbformat": 4,
 "nbformat_minor": 2
}
