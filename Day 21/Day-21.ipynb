{
 "cells": [
  {
   "cell_type": "markdown",
   "metadata": {},
   "source": [
    "# Day 21\n",
    "\n",
    "## Class Inheritance\n",
    "\n",
    "Suppose we have a class with attributes and methods. We want another class with the same attributes and methods but a few more extra features as well. We can use inheritance to create a new class with the same attributes and methods as the first class and then add the extra features. This is called class inheritance.\n",
    "\n",
    "In class inheritance we can inherit appearance(i.e. attributes) and behaviour(i.e. methods) from a parent class to a child class. The child class inherits all the attributes and methods from the parent class. The child class can also have its own attributes and methods along with the inherited attributes and methods."
   ]
  },
  {
   "cell_type": "code",
   "execution_count": 1,
   "metadata": {},
   "outputs": [],
   "source": [
    "class Animal:\n",
    "    def __init__(self) -> None:\n",
    "        pass\n",
    "\n",
    "class Fish(Animal):\n",
    "    def __init__(self) -> None:\n",
    "        super().__init__()\n"
   ]
  },
  {
   "cell_type": "markdown",
   "metadata": {},
   "source": [
    "In the above example we can see a main class Animal and a child class Fish which is the child class of Animal(We can see it in the declaration of Fish a '()' with Animal) inside it. In the init function we can see a super keyword which refers to the super class. basically it intializes the attributes of the super class inside the child class. The super keyword is used to give access to the methods and properties of a parent or sibling class."
   ]
  },
  {
   "cell_type": "code",
   "execution_count": 5,
   "metadata": {},
   "outputs": [
    {
     "name": "stdout",
     "output_type": "stream",
     "text": [
      "Inhale, exhale.\n",
      "2\n"
     ]
    }
   ],
   "source": [
    "class Animal:\n",
    "    def __init__(self) -> None:\n",
    "        self.num_eyes = 2\n",
    "\n",
    "    def breathe(self):\n",
    "        print(\"Inhale, exhale.\")\n",
    "    \n",
    "class Fish(Animal):\n",
    "    def __init__(self) -> None:\n",
    "        super().__init__()\n",
    "        pass\n",
    "\n",
    "    def breathe(self):\n",
    "        super().breathe()\n",
    "        print(\"Doing this underwater.\")\n",
    "\n",
    "    def swim(self):\n",
    "        print(\"Moving in water.\")\n",
    "\n",
    "nemo = Fish()\n",
    "nemo.breathe()\n",
    "print(nemo.num_eyes)\n"
   ]
  },
  {
   "cell_type": "markdown",
   "metadata": {},
   "source": [
    "**NOTE**: The attributes of the parent class are not automatically inherited by the child class, the child class has to call the __init__() method of the parent class. But the methods of the parent class are automatically inherited by the child class."
   ]
  },
  {
   "cell_type": "markdown",
   "metadata": {},
   "source": [
    "**NOTE**: Even if we don't declare each method of the parent class in the child class, the child class will still have access to the parent class methods by default."
   ]
  },
  {
   "cell_type": "markdown",
   "metadata": {},
   "source": [
    "We can see in line 14 that we have changed the breathe method slightly. We have used the super keyword to run the breathe method of the parent class and then we have added a new line to it. This is called method overriding. We can override the methods of the parent class in the child class."
   ]
  },
  {
   "cell_type": "markdown",
   "metadata": {},
   "source": [
    "## Slicing List and Tuples in Python\n",
    "\n",
    "Slicing is a feature in Python that allows us to access a range of items in a list or tuple or string instead of accessing all of them. "
   ]
  },
  {
   "cell_type": "code",
   "execution_count": 3,
   "metadata": {},
   "outputs": [
    {
     "name": "stdout",
     "output_type": "stream",
     "text": [
      "['b', 'c', 'd']\n",
      "['b', 'c', 'd', 'e', 'f']\n",
      "['b', 'd', 'f']\n",
      "['f', 'e', 'd', 'c', 'b', 'a']\n"
     ]
    }
   ],
   "source": [
    "list1 = [\"a\", \"b\", \"c\", \"d\", \"e\", \"f\"]\n",
    "\n",
    "print(list1[1:4])\n",
    "print(list1[1:])\n",
    "print(list1[1:6:2])\n",
    "print(list1[::-1])"
   ]
  },
  {
   "cell_type": "markdown",
   "metadata": {},
   "source": [
    "In the [a:b] the slice starts from index a and goes till the index before b(like range functions). If we don't specify the starting index then it will start from the beginning and if we don't specify the ending index then it will go till the end of the list.\n",
    "\n",
    "If we give a third argument it will use that as a jump(like range function). It will jump the number of steps specified. By default jump is 1.\n",
    "\n",
    "If we give a negative value as jump it will go backwards. We can use this method to reverse a list/tuple.\n",
    "\n",
    "**NOTE**: Slicing doesn't change the original list/tuple/string. It just returns a new list/tuple/string."
   ]
  },
  {
   "cell_type": "markdown",
   "metadata": {},
   "source": []
  }
 ],
 "metadata": {
  "kernelspec": {
   "display_name": "Python 3.10.6 ('Udemy_Python_100Days')",
   "language": "python",
   "name": "python3"
  },
  "language_info": {
   "codemirror_mode": {
    "name": "ipython",
    "version": 3
   },
   "file_extension": ".py",
   "mimetype": "text/x-python",
   "name": "python",
   "nbconvert_exporter": "python",
   "pygments_lexer": "ipython3",
   "version": "3.10.6"
  },
  "orig_nbformat": 4,
  "vscode": {
   "interpreter": {
    "hash": "1828ef83a9039e523bcd3f28ee015f286e747c7d84db353da49e263841e85bfe"
   }
  }
 },
 "nbformat": 4,
 "nbformat_minor": 2
}
