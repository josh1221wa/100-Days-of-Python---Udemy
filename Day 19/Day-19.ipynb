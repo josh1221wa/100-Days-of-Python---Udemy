{
 "cells": [
  {
   "cell_type": "markdown",
   "metadata": {},
   "source": [
    "# Day 19\n",
    "\n",
    "## Turtle Event Listeners\n",
    "\n",
    "Event listeners listen for events like keyboard clicks and mouse clicks. They can be used to make the turtle respond to user input."
   ]
  },
  {
   "cell_type": "code",
   "execution_count": 2,
   "metadata": {},
   "outputs": [],
   "source": [
    "import turtle\n",
    "\n",
    "turtle.TurtleScreen._RUNNING = True\n",
    "\n",
    "turtle_obj = turtle.Turtle()\n",
    "\n",
    "def move_forwards():\n",
    "    turtle_obj.forward(10)\n",
    "\n",
    "screen = turtle.Screen()\n",
    "\n",
    "screen.listen() # Listens for events\n",
    "screen.onkey(key=\"space\", fun=move_forwards)    # Tells what to do when a particular event happens. So here we are waiting for spacebar to be clicked and when that happens, the move_forwards function takes place.\n",
    "\n",
    "screen.exitonclick()"
   ]
  },
  {
   "cell_type": "markdown",
   "metadata": {},
   "source": [
    "## Function as input\n",
    "\n",
    "We can give functions as inputs to other functions. This is called a callback function. The function that takes another function as input is called a higher order function. When we give a function as input we only give the function name without the parentheses. The parentheses are added when the function is called.\n",
    "\n",
    "#### Challenge: Create an Etch-a-sketch game"
   ]
  },
  {
   "cell_type": "code",
   "execution_count": 8,
   "metadata": {},
   "outputs": [],
   "source": [
    "import turtle\n",
    "\n",
    "turtle.TurtleScreen._RUNNING = True\n",
    "\n",
    "turtle_obj = turtle.Turtle()\n",
    "\n",
    "def move_forwards():\n",
    "    turtle_obj.forward(10)\n",
    "\n",
    "def move_backwards():\n",
    "    turtle_obj.backward(10)\n",
    "\n",
    "def turn_right():\n",
    "    turtle_obj.right(10)\n",
    "\n",
    "def turn_left():\n",
    "    turtle_obj.left(10)\n",
    "\n",
    "def clear():\n",
    "    turtle_obj.clear()\n",
    "    turtle_obj.reset()\n",
    "\n",
    "screen = turtle.Screen()\n",
    "\n",
    "screen.listen() # Listens for events\n",
    "screen.onkey(key=\"w\", fun=move_forwards)\n",
    "screen.onkey(key=\"a\", fun=turn_left)\n",
    "screen.onkey(key=\"s\", fun=move_backwards)\n",
    "screen.onkey(key=\"d\", fun=turn_right)\n",
    "screen.onkey(key=\"c\", fun=clear)\n",
    "\n",
    "screen.exitonclick()"
   ]
  },
  {
   "cell_type": "markdown",
   "metadata": {},
   "source": [
    "## Object State and Instances\n",
    "\n",
    "We can create multiple objects off the same class. Each object has its own state. We can change the state of an object by calling methods on it. Each object will act independantly of each other."
   ]
  },
  {
   "cell_type": "markdown",
   "metadata": {},
   "source": [
    "## Turtle Coordinate System\n",
    "\n",
    "In turtle the middlemost point is (0,0). The x-axis goes from left to right and the y-axis goes from bottom to top. The coordinates to the left of origin are negative and the coordinates to the right of origin are positive. The coordinates below the origin are negative and the coordinates above the origin are positive. The turtle starts at the origin facing right.\n",
    "\n",
    "We can use the goto() method to move the turtle to a specific coordinate. The goto() method takes two arguments, the x-coordinate and the y-coordinate."
   ]
  }
 ],
 "metadata": {
  "kernelspec": {
   "display_name": "Python 3.9.13 ('base')",
   "language": "python",
   "name": "python3"
  },
  "language_info": {
   "codemirror_mode": {
    "name": "ipython",
    "version": 3
   },
   "file_extension": ".py",
   "mimetype": "text/x-python",
   "name": "python",
   "nbconvert_exporter": "python",
   "pygments_lexer": "ipython3",
   "version": "3.9.13"
  },
  "orig_nbformat": 4,
  "vscode": {
   "interpreter": {
    "hash": "52a0e7b4f4c9b93c7568b039447b72228aa9ad72b6466ebee46731f7fd73c837"
   }
  }
 },
 "nbformat": 4,
 "nbformat_minor": 2
}
