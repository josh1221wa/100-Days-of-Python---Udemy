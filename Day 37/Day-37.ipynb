{
 "cells": [
  {
   "attachments": {},
   "cell_type": "markdown",
   "metadata": {},
   "source": [
    "# Day 37\n",
    "\n",
    "## HTTP Requests\n",
    "\n",
    "We've been using the HTTP get requests till now to get some data from the internet like an API provider. Theres 3 more types of requests that we can use to access/change data from the internet. They are: POST, PUT and DELETE. We'll be using the requests library to make these requests and the syntax for these 3 are similar to the GET request.\n",
    "\n",
    "A GET request is used when we are asking for data from the internet.\n",
    "A POST request is used when we are sending some data to the internet. Here we aren't interested in the response we get back.\n",
    "A PUT request is used when we want to update the data in the external service.\n",
    "A DELETE request is used when we want to delete some data from the external service.\n",
    "\n",
    "## HTTP Headers\n",
    "\n",
    "In the days before we we used to pass the API Keys as a parameters to our requests. But now we'll be using the HTTP Headers to pass the API Keys. The HTTP Headers are a dictionary of key-value pairs that we can pass to the requests. The syntax for this is:\n",
    "\n",
    "```python\n",
    "parameters = {\n",
    "    \"key1\": \"value1\",\n",
    "    \"key2\": \"value2\",\n",
    "}\n",
    "response = requests.get(url, headers=parameters)\n",
    "```\n",
    "\n",
    "We use headers as they are less prone to being leaked as compared to the parameters. The parameters are visible in the URL and can be seen by anyone. The headers are not visible in the URL and are more secure."
   ]
  }
 ],
 "metadata": {
  "kernelspec": {
   "display_name": "Udemy_Python_100Days",
   "language": "python",
   "name": "python3"
  },
  "language_info": {
   "name": "python",
   "version": "3.10.6 | packaged by conda-forge | (main, Oct 24 2022, 16:02:16) [MSC v.1916 64 bit (AMD64)]"
  },
  "orig_nbformat": 4,
  "vscode": {
   "interpreter": {
    "hash": "1828ef83a9039e523bcd3f28ee015f286e747c7d84db353da49e263841e85bfe"
   }
  }
 },
 "nbformat": 4,
 "nbformat_minor": 2
}
