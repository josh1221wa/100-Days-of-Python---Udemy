{
 "cells": [
  {
   "cell_type": "markdown",
   "metadata": {},
   "source": [
    "# Day 27\n",
    "\n",
    "## Creating Windows and Labels with Tkinter\n",
    "\n",
    "We can import the Tkinter module to create a GUI. We can create a window and add labels to it. The Tkinter module is inbuilt in Python 3. To create a window, we need to create an instance of the Tk class."
   ]
  },
  {
   "cell_type": "code",
   "execution_count": 17,
   "metadata": {},
   "outputs": [],
   "source": [
    "import tkinter\n",
    "\n",
    "window  = tkinter.Tk()\n",
    "window.title(\"My first GUI program\")\n",
    "window.minsize(width = 500, height = 300)\n",
    "\n",
    "window.mainloop() # Keeps the window on the screen. Alway has to be at the end of the program."
   ]
  },
  {
   "cell_type": "markdown",
   "metadata": {},
   "source": [
    "Just as we create a window using the TK(), we can also create a label using Label(). We can add text to the label and display it on the window. We can also change the font and size of the text."
   ]
  },
  {
   "cell_type": "code",
   "execution_count": 18,
   "metadata": {},
   "outputs": [],
   "source": [
    "import tkinter\n",
    "\n",
    "window  = tkinter.Tk()\n",
    "window.title(\"My first GUI program\")\n",
    "window.minsize(width = 500, height = 300)\n",
    "\n",
    "label = tkinter.Label(text = \"I am a label\", font=(\"Arial\", 24, \"normal\"))\n",
    "label.pack()    # Keeps the label on the screen and puts it in the center of the screen by default.\n",
    "\n",
    "window.mainloop()"
   ]
  },
  {
   "cell_type": "markdown",
   "metadata": {},
   "source": [
    "## Default Python Arguments\n",
    "\n",
    "We can set default values for the arguments in a function. If we do not pass any value for the argument, the default value will be used. We can also pass a value for the argument and it will be used instead of the default value.\n",
    "\n",
    "If any argument doesen't have a default value assigned it is a required argument and must be passed during function call. The others can be passed or not passed.\n",
    "\n",
    "The required argument cannot come after the default."
   ]
  },
  {
   "cell_type": "code",
   "execution_count": 19,
   "metadata": {},
   "outputs": [
    {
     "name": "stdout",
     "output_type": "stream",
     "text": [
      "6\n",
      "7\n"
     ]
    }
   ],
   "source": [
    "def add(c, a=1, b=2):\n",
    "    print(a+b+c)\n",
    "\n",
    "add(c=3)\n",
    "add(a=2, c=3)   #2 + 2 + 3 = 7 bcos a value has been given as 2"
   ]
  },
  {
   "cell_type": "markdown",
   "metadata": {},
   "source": [
    "## *args and **kwargs\n",
    "\n",
    "### *args\n",
    "\n",
    "We can use *args to pass a variable number of arguments to a function. The \"args\" part can be any variable but the * is important. It will pass in a tuple of arguments to the function as shows below. *args is also called unlimited posisional arguments as the position of the arguments matters when we use the function."
   ]
  },
  {
   "cell_type": "code",
   "execution_count": 20,
   "metadata": {},
   "outputs": [
    {
     "name": "stdout",
     "output_type": "stream",
     "text": [
      "<class 'tuple'>\n",
      "(1, 2, 3, 4, 5, 65, 7)\n",
      "1\n",
      "87\n"
     ]
    }
   ],
   "source": [
    "def add(*args):\n",
    "    print(type(args))\n",
    "    print(args)\n",
    "    print(args[0])\n",
    "    return sum(args)\n",
    "\n",
    "print(add(1, 2, 3, 4, 5, 65, 7))"
   ]
  },
  {
   "cell_type": "markdown",
   "metadata": {},
   "source": [
    "## **kwargs\n",
    "\n",
    "We can use **kwargs to pass a variable number of keyword arguments to a function. When we use the function we can pass in the arguments as key=value pairs. It will be converted into a dictionary of {key:value} and we can use it that way as shown below."
   ]
  },
  {
   "cell_type": "code",
   "execution_count": 21,
   "metadata": {},
   "outputs": [
    {
     "name": "stdout",
     "output_type": "stream",
     "text": [
      "<class 'dict'>\n",
      "{'add': 3, 'multiply': 5}\n",
      "5\n",
      "10\n"
     ]
    }
   ],
   "source": [
    "def calculate(n, **kwargs):\n",
    "    print(type(kwargs))\n",
    "    print(kwargs)\n",
    "\n",
    "    print(n + kwargs[\"add\"])\n",
    "    print(n * kwargs[\"multiply\"])\n",
    "\n",
    "calculate(2, add=3, multiply=5)"
   ]
  },
  {
   "cell_type": "markdown",
   "metadata": {},
   "source": [
    "## Buttons, Entry and Setting Components Options\n",
    "\n",
    "If we want to change the properties of a label we can either change the property as if it was a member of a dictionary or we can use the config() method. We can also use the config() method to change the properties of other components like buttons and entry."
   ]
  },
  {
   "cell_type": "code",
   "execution_count": 22,
   "metadata": {},
   "outputs": [],
   "source": [
    "import tkinter\n",
    "\n",
    "window  = tkinter.Tk()\n",
    "window.title(\"My first GUI program\")\n",
    "window.minsize(width = 500, height = 300)\n",
    "\n",
    "label = tkinter.Label(text = \"I am a label\", font=(\"Arial\", 24, \"normal\"))\n",
    "label.pack()    # Keeps the label on the screen and puts it in the center of the screen by default.\n",
    "\n",
    "label[\"text\"] = \"I have changed the text once\"\n",
    "label.config(text=\"I again changed the label\")\n",
    "\n",
    "window.mainloop()"
   ]
  },
  {
   "cell_type": "markdown",
   "metadata": {},
   "source": [
    "We can create the button using the Button() method. Same as the label we have to use the pack() method to display the button on the window. We can use event listeners to do actions with the button so that when the button is clicked, the action is performed. This is by adding a command argument to the Button method with the name of the function to be called when the button is clicked."
   ]
  },
  {
   "cell_type": "code",
   "execution_count": 23,
   "metadata": {},
   "outputs": [],
   "source": [
    "import tkinter\n",
    "\n",
    "window  = tkinter.Tk()\n",
    "window.title(\"My first GUI program\")\n",
    "window.minsize(width = 500, height = 300)\n",
    "\n",
    "label = tkinter.Label(text = \"I am a label\", font=(\"Arial\", 24, \"normal\"))\n",
    "label.pack()    # Keeps the label on the screen and puts it in the center of the screen by default.\n",
    "\n",
    "def button_clicked():\n",
    "    label[\"text\"] = \"Button has been clicked\"   #Change label text if button is clicked.\n",
    "\n",
    "button = tkinter.Button(text=\"Click Me\", command=button_clicked)\n",
    "button.pack()\n",
    "\n",
    "window.mainloop()"
   ]
  },
  {
   "cell_type": "markdown",
   "metadata": {},
   "source": [
    "We can create an input box using the Entry() method. We can change its width using the width keyword argument. To get the value inputed from the input box we can use the get() method. We can also use the insert() method to add so0me text to the input box."
   ]
  },
  {
   "cell_type": "code",
   "execution_count": 24,
   "metadata": {},
   "outputs": [],
   "source": [
    "import tkinter\n",
    "\n",
    "window  = tkinter.Tk()\n",
    "window.title(\"My first GUI program\")\n",
    "window.minsize(width = 500, height = 300)\n",
    "\n",
    "label = tkinter.Label(text = \"I am a label\", font=(\"Arial\", 24, \"normal\"))\n",
    "label.pack()    # Keeps the label on the screen and puts it in the center of the screen by default.\n",
    "\n",
    "def button_clicked():\n",
    "    # Get the text input in the entry box and change the label text to that when the button is clicked.\n",
    "    label.config(text=input.get())\n",
    "\n",
    "button = tkinter.Button(text=\"Click Me\", command=button_clicked)\n",
    "button.pack()\n",
    "\n",
    "input = tkinter.Entry(width = 10)\n",
    "input.pack()\n",
    "\n",
    "window.mainloop()"
   ]
  },
  {
   "cell_type": "markdown",
   "metadata": {},
   "source": [
    "## Miscellaneous Components"
   ]
  },
  {
   "cell_type": "code",
   "execution_count": 28,
   "metadata": {},
   "outputs": [
    {
     "name": "stdout",
     "output_type": "stream",
     "text": [
      "Some text to begin with.\n",
      "Example of multi-line text entry.\n",
      "\n"
     ]
    }
   ],
   "source": [
    "from tkinter import *\n",
    "\n",
    "#Creating a new window and configurations\n",
    "window = Tk()\n",
    "window.title(\"Widget Examples\")\n",
    "window.minsize(width=500, height=500)\n",
    "\n",
    "#Labels\n",
    "label = Label(text=\"This is old text\")\n",
    "label.config(text=\"This is new text\")\n",
    "label.pack()\n",
    "\n",
    "#Buttons\n",
    "def action():\n",
    "    print(\"Do something\")\n",
    "\n",
    "#calls action() when pressed\n",
    "button = Button(text=\"Click Me\", command=action)\n",
    "button.pack()\n",
    "\n",
    "#Entries\n",
    "entry = Entry(width=30)\n",
    "#Add some text to begin with\n",
    "entry.insert(END, string=\"Some text to begin with.\")\n",
    "#Gets text in entry\n",
    "print(entry.get())\n",
    "entry.pack()\n",
    "\n",
    "#Text\n",
    "text = Text(height=5, width=30)\n",
    "#Puts cursor in textbox.\n",
    "text.focus()\n",
    "#Adds some text to begin with.\n",
    "text.insert(END, \"Example of multi-line text entry.\")\n",
    "#Get's current value in textbox at line 1, character 0\n",
    "print(text.get(\"1.0\", END))     #The END Keyword is there by default we must not pay much attention to it.\n",
    "text.pack()\n",
    "\n",
    "#Spinbox\n",
    "def spinbox_used():\n",
    "    #gets the current value in spinbox.\n",
    "    print(spinbox.get())\n",
    "spinbox = Spinbox(from_=0, to=10, width=5, command=spinbox_used)\n",
    "spinbox.pack()\n",
    "\n",
    "#Scale\n",
    "#Called with current scale value.\n",
    "def scale_used(value):\n",
    "    print(value)\n",
    "scale = Scale(from_=0, to=100, command=scale_used)\n",
    "scale.pack()\n",
    "\n",
    "#Checkbutton\n",
    "def checkbutton_used():\n",
    "    #Prints 1 if On button checked, otherwise 0.\n",
    "    print(checked_state.get())\n",
    "#variable to hold on to checked state, 0 is off, 1 is on.\n",
    "checked_state = IntVar()\n",
    "checkbutton = Checkbutton(text=\"Is On?\", variable=checked_state, command=checkbutton_used)\n",
    "checked_state.get()\n",
    "checkbutton.pack()\n",
    "\n",
    "#Radiobutton\n",
    "def radio_used():\n",
    "    print(radio_state.get())\n",
    "#Variable to hold on to which radio button value is checked.\n",
    "radio_state = IntVar()\n",
    "radiobutton1 = Radiobutton(text=\"Option1\", value=1, variable=radio_state, command=radio_used)\n",
    "radiobutton2 = Radiobutton(text=\"Option2\", value=2, variable=radio_state, command=radio_used)\n",
    "radiobutton1.pack()\n",
    "radiobutton2.pack()\n",
    "\n",
    "\n",
    "#Listbox\n",
    "def listbox_used(event):\n",
    "    # Gets current selection from listbox\n",
    "    print(listbox.get(listbox.curselection()))\n",
    "\n",
    "listbox = Listbox(height=4)\n",
    "fruits = [\"Apple\", \"Pear\", \"Orange\", \"Banana\"]\n",
    "for item in fruits:\n",
    "    listbox.insert(fruits.index(item), item)\n",
    "listbox.bind(\"<<ListboxSelect>>\", listbox_used)\n",
    "listbox.pack()\n",
    "window.mainloop()\n",
    "\n"
   ]
  },
  {
   "cell_type": "markdown",
   "metadata": {},
   "source": [
    "## Layout Managers\n",
    "\n",
    "Tkinter has different layout managers which help us position all the components in the grid. We learn 3 of them in this lesson - pack, grid and place. If we don't specify any layout manager, it won't display the components on the window.\n",
    "\n",
    "### Pack\n",
    "\n",
    "Pack will just pack the components in the window. It will not allow us to position the components in the grid. It will just add them in the order they are added to the window. We can change the side of the window where the components are added using the side keyword argument. We can't specify where the components are added using the pack() method precisely.\n",
    "\n",
    "### Place\n",
    "\n",
    "Place is all about positioning the components in the window. We can specify the x and y coordinates of the component. Place is very specific and its hard to calculate the coordinates. \n",
    "\n",
    "### Grid\n",
    "\n",
    "Grid is the most flexible layout manager. We can imagine the window as a grid and we can specify the row and column of the component. Grid is relative to other components. The easiest way of working with grid is to specify the item at the top left of the window and then going that way.\n",
    "\n",
    "\n",
    "You can't mix up grid and pack with one another. You can only use one of them. You can use place with either of them."
   ]
  },
  {
   "cell_type": "code",
   "execution_count": 36,
   "metadata": {},
   "outputs": [],
   "source": [
    "import tkinter\n",
    "\n",
    "def button_clicked():\n",
    "    # Get the text input in the entry box and change the label text to that when the button is clicked.\n",
    "    label.config(text=input.get())\n",
    "\n",
    "window  = tkinter.Tk()\n",
    "window.title(\"My first GUI program\")\n",
    "window.minsize(width = 500, height = 300)\n",
    "\n",
    "label = tkinter.Label(text = \"I am a label\", font=(\"Arial\", 24, \"normal\"))\n",
    "label.grid(row=0, column=0)\n",
    "\n",
    "button1 = tkinter.Button(text=\"But1\", command=button_clicked)\n",
    "button1.grid(row=1, column=1)\n",
    "\n",
    "button2 = tkinter.Button(text=\"But2\", command=button_clicked)\n",
    "button2.grid(row=0, column=2)\n",
    "\n",
    "input = tkinter.Entry(width = 10)\n",
    "input.grid(row=2, column=3)\n",
    "\n",
    "window.mainloop()"
   ]
  },
  {
   "cell_type": "markdown",
   "metadata": {},
   "source": [
    "We can add padding to the components using the padx and pady keyword arguments. Padding is just free space around the component. We can also add padding to the window using the padx and pady keyword arguments."
   ]
  },
  {
   "cell_type": "code",
   "execution_count": 37,
   "metadata": {},
   "outputs": [],
   "source": [
    "import tkinter\n",
    "\n",
    "def button_clicked():\n",
    "    # Get the text input in the entry box and change the label text to that when the button is clicked.\n",
    "    label.config(text=input.get())\n",
    "\n",
    "window  = tkinter.Tk()\n",
    "window.title(\"My first GUI program\")\n",
    "window.minsize(width = 500, height = 300)\n",
    "window.config(padx=28, pady=20)\n",
    "\n",
    "label = tkinter.Label(text = \"I am a label\", font=(\"Arial\", 24, \"normal\"))\n",
    "label.grid(row=0, column=0)\n",
    "label.config(padx=50, pady=50)\n",
    "\n",
    "button1 = tkinter.Button(text=\"But1\", command=button_clicked)\n",
    "button1.grid(row=1, column=1)\n",
    "\n",
    "button2 = tkinter.Button(text=\"But2\", command=button_clicked)\n",
    "button2.grid(row=0, column=2)\n",
    "\n",
    "input = tkinter.Entry(width = 10)\n",
    "input.grid(row=2, column=3)\n",
    "\n",
    "window.mainloop()"
   ]
  }
 ],
 "metadata": {
  "kernelspec": {
   "display_name": "Python 3.10.6 ('Udemy_Python_100Days')",
   "language": "python",
   "name": "python3"
  },
  "language_info": {
   "codemirror_mode": {
    "name": "ipython",
    "version": 3
   },
   "file_extension": ".py",
   "mimetype": "text/x-python",
   "name": "python",
   "nbconvert_exporter": "python",
   "pygments_lexer": "ipython3",
   "version": "3.10.6"
  },
  "orig_nbformat": 4,
  "vscode": {
   "interpreter": {
    "hash": "1828ef83a9039e523bcd3f28ee015f286e747c7d84db353da49e263841e85bfe"
   }
  }
 },
 "nbformat": 4,
 "nbformat_minor": 2
}
