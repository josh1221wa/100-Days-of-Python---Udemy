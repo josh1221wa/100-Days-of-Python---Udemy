{
 "cells": [
  {
   "attachments": {},
   "cell_type": "markdown",
   "metadata": {},
   "source": [
    "# Day 34\n",
    "\n",
    "## HTML Entities\n",
    "\n",
    "When we sometimes get string data using APIs we get certain symbols or a collection of symbols instead of things like a comma or an apostrophe. These are called HTML entities. For example, the HTML entity for an apostrophe is `&apos;`. This is so that when HTML is coded, the raw symbol does not affect the actual code. To undo this we can use the html.unescape() function on the string. This will convert the HTML entities back to the symbols they represent."
   ]
  },
  {
   "attachments": {},
   "cell_type": "markdown",
   "metadata": {},
   "source": [
    "## Python Typing\n",
    "\n",
    "We can use certain symbols to define the datatypes of variables in Python before they are assigned. Especially in function arguments we can use this to make sure that the function is called with the correct datatypes. This is called Python typing. To define the datatypes we use \":\" after the variable name. This is mainly for IDEs to figure out bugs in your code easily."
   ]
  },
  {
   "cell_type": "code",
   "execution_count": null,
   "metadata": {},
   "outputs": [],
   "source": [
    "def lisence_check(age:int):\n",
    "    if age > 18:\n",
    "        return True\n",
    "    else:\n",
    "        return False\n",
    "\n",
    "lisence_check(\"18\")"
   ]
  },
  {
   "attachments": {},
   "cell_type": "markdown",
   "metadata": {},
   "source": [
    "If we see above, the IDE gives us an error when we give in the wrong datatype as argument.\n",
    "\n",
    "We can also define what a function will return when we define the function. This is done by using \"->\" after the function arguments and before the colon. This is also mainly for IDEs to figure out bugs in your code easily."
   ]
  },
  {
   "cell_type": "code",
   "execution_count": null,
   "metadata": {},
   "outputs": [],
   "source": [
    "def lisence_check(age:int)->bool:\n",
    "    if age > 18:\n",
    "        return True\n",
    "    else:\n",
    "        return \"False\"\n",
    "\n",
    "lisence_check(19)"
   ]
  }
 ],
 "metadata": {
  "kernelspec": {
   "display_name": "Udemy_Python_100Days",
   "language": "python",
   "name": "python3"
  },
  "language_info": {
   "codemirror_mode": {
    "name": "ipython",
    "version": 3
   },
   "file_extension": ".py",
   "mimetype": "text/x-python",
   "name": "python",
   "nbconvert_exporter": "python",
   "pygments_lexer": "ipython3",
   "version": "3.10.6"
  },
  "orig_nbformat": 4,
  "vscode": {
   "interpreter": {
    "hash": "1828ef83a9039e523bcd3f28ee015f286e747c7d84db353da49e263841e85bfe"
   }
  }
 },
 "nbformat": 4,
 "nbformat_minor": 2
}
