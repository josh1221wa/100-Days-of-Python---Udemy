{
 "cells": [
  {
   "attachments": {},
   "cell_type": "markdown",
   "metadata": {},
   "source": [
    "# Day 35\n",
    "\n",
    "## API Authentication\n",
    "\n",
    "All of the APIs we have used till now are free APIs and there wasn't any payment or authentication required to use them. But there arre many APIs which have large amounts of data and is hard to collect said data. These APIs require you to pay for the data you use and also require you to authenticate yourself before using the API. In this lesson we will learn how to authenticate ourselves to use these APIs.\n",
    "\n",
    "APIs can also be a way to sell data that you have collected. For example, if you have a large database of images, you can create an API that allows people to access your images. You can also charge them for using your API.\n",
    "\n",
    "Most APIs provide a free tier that allows you to use the API for free. But if you want to use the API for commercial purposes, you will have to pay for it. \n",
    "\n",
    "The way they authenticate you is by giving you a key. This key is unique to you and is used to identify you. You can use this key to access the API. With the key the API providers can track your usage of their API and charge you accordingly.\n",
    "\n",
    "We can pass the api key as a parameter in the API call. For example, if we want to use the API from [OpenWeatherMap](https://openweathermap.org/api), we can pass the api key as a parameter in the API call. \n",
    "\n",
    "### Example: Using the OpenWeatherMap API"
   ]
  },
  {
   "cell_type": "code",
   "execution_count": 2,
   "metadata": {},
   "outputs": [],
   "source": [
    "import requests\n",
    "import confidential\n",
    "\n",
    "api_key = confidential.OPENWEATHER_KEY\n",
    "\n",
    "parameters = {\"lat\" : 10.057906,\n",
    "              \"lon\" : 76.346359,\n",
    "              \"appid\" : api_key}\n",
    "\n",
    "# Was supposed to use One call API here but it is now paid so using the current weather API\n",
    "response = requests.get(url=\"https://api.openweathermap.org/data/2.5/weather\", params=parameters)\n",
    "response.raise_for_status()\n",
    "data = response.json()"
   ]
  },
  {
   "cell_type": "code",
   "execution_count": 3,
   "metadata": {},
   "outputs": [],
   "source": [
    "# Print out \"Bring an Umbrella\" if the weather id is < 700\n",
    "\n",
    "if data[\"weather\"][0][\"id\"] < 700:\n",
    "    print(\"Bring an Umbrella\")"
   ]
  },
  {
   "attachments": {},
   "cell_type": "markdown",
   "metadata": {},
   "source": [
    "### Example: Using the Twilio API"
   ]
  },
  {
   "cell_type": "code",
   "execution_count": 4,
   "metadata": {},
   "outputs": [
    {
     "name": "stdout",
     "output_type": "stream",
     "text": [
      "SMb57cedce1024a01238c195db0df9a701\n"
     ]
    }
   ],
   "source": [
    "from twilio.rest import Client\n",
    "\n",
    "# Find your Account SID and Auth Token at twilio.com/console\n",
    "# and set the environment variables. See http://twil.io/secure\n",
    "account_sid = confidential.TWILIO_SID\n",
    "auth_token = confidential.TWILIO_AUTH\n",
    "client = Client(account_sid, auth_token)\n",
    "\n",
    "message = client.messages \\\n",
    "                .create(\n",
    "                     body=\"It's going to rain. Bring an ☔\",\n",
    "                     from_=confidential.TWILIO_FROM,\n",
    "                     to=confidential.TWILIO_TO\n",
    "                 )\n",
    "\n",
    "print(message.sid)"
   ]
  },
  {
   "attachments": {},
   "cell_type": "markdown",
   "metadata": {},
   "source": [
    "## Environment Variables\n",
    "\n",
    "Now if we use our API key in the code, it will be visible to everyone. This is not a good practice. We should not share our API keys with everyone. So we will use environment variables to store our API keys. Environment variables are variables that are stored in the environment of your computer. They are not stored in the code. We can access them later using the OS module.\n",
    "\n",
    "To add an environment variable we have to type in the following command in the bash terminal:\n",
    "\n",
    "```bash\n",
    "export API_KEY = <key>\n",
    "```\n",
    "\n",
    "To access, we can use the following code:\n",
    "\n",
    "```python\n",
    "import os\n",
    "os.environ.get(\"API_KEY\")\n",
    "```"
   ]
  }
 ],
 "metadata": {
  "kernelspec": {
   "display_name": "Udemy_Python_100Days",
   "language": "python",
   "name": "python3"
  },
  "language_info": {
   "codemirror_mode": {
    "name": "ipython",
    "version": 3
   },
   "file_extension": ".py",
   "mimetype": "text/x-python",
   "name": "python",
   "nbconvert_exporter": "python",
   "pygments_lexer": "ipython3",
   "version": "3.10.6"
  },
  "orig_nbformat": 4,
  "vscode": {
   "interpreter": {
    "hash": "1828ef83a9039e523bcd3f28ee015f286e747c7d84db353da49e263841e85bfe"
   }
  }
 },
 "nbformat": 4,
 "nbformat_minor": 2
}
