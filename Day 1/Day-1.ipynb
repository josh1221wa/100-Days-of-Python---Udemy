{
 "cells": [
  {
   "cell_type": "markdown",
   "metadata": {},
   "source": [
    "# Day 1\n",
    "\n",
    "## Printing to console in Python\n",
    "\n",
    "Use the keyword print followed by () and inside the parantheses we put the item to be printed."
   ]
  },
  {
   "cell_type": "code",
   "execution_count": null,
   "metadata": {},
   "outputs": [],
   "source": [
    "print(\"Hello World\")"
   ]
  },
  {
   "cell_type": "markdown",
   "metadata": {},
   "source": [
    "Note that the given value in the parantheses is flanked by \". it just shows that it's not a piece of code but rather a piece of text that is to be printed.\n",
    "\n",
    "These pieces of text are called <strong><u>strings</u></strong>. The \" show the beginning and the end of the string"
   ]
  },
  {
   "cell_type": "markdown",
   "metadata": {},
   "source": [
    "We can use \"\\n\" in our string to separate the text into two separate lines"
   ]
  },
  {
   "cell_type": "code",
   "execution_count": null,
   "metadata": {},
   "outputs": [],
   "source": [
    "print(\"Hello\\nWorld\")"
   ]
  },
  {
   "cell_type": "markdown",
   "metadata": {},
   "source": [
    "We can combine two strings using the + symbol. This is called <u><strong>Concatenation"
   ]
  },
  {
   "cell_type": "code",
   "execution_count": null,
   "metadata": {},
   "outputs": [],
   "source": [
    "print(\"Hello\" + \"World\")"
   ]
  },
  {
   "cell_type": "markdown",
   "metadata": {},
   "source": [
    "Spaces in python code are very important. When we are coding in python we must start our code at the beginning of the line. We shouldn't have any unnecessary spaces or tabs"
   ]
  },
  {
   "cell_type": "markdown",
   "metadata": {},
   "source": [
    "## The Python Input Function\n",
    "\n",
    "The print function is to give an output to the console. To get an input from the user we can use the <b><u>input</u></b> function.\n",
    "\n",
    "The value in the parantheses is printed first and then it waits for a user input."
   ]
  },
  {
   "cell_type": "code",
   "execution_count": null,
   "metadata": {},
   "outputs": [],
   "source": [
    "input(\"What is your name? \")"
   ]
  },
  {
   "cell_type": "markdown",
   "metadata": {},
   "source": [
    "The input given is always a string so we can use it as a string. For example,"
   ]
  },
  {
   "cell_type": "code",
   "execution_count": null,
   "metadata": {},
   "outputs": [],
   "source": [
    "print(\"Hello \" + input(\"What is your name? \"))\n",
    "\n",
    "# The input function is run first then, it runs the print function"
   ]
  },
  {
   "cell_type": "markdown",
   "metadata": {},
   "source": [
    "## Python Variables\n",
    "\n",
    "We can use variables to refer to various data in our code that we want to be able to refer in the future.\n",
    "\n",
    "For eg, if we input a name using the input function there is no way for us to actually use that input a few lines down our code. But we can use variables to store that data and then use that variable in the code to get that data."
   ]
  },
  {
   "cell_type": "code",
   "execution_count": null,
   "metadata": {},
   "outputs": [],
   "source": [
    "name = input(\"What is your name? \")\n",
    "print(name)"
   ]
  },
  {
   "cell_type": "markdown",
   "metadata": {},
   "source": [
    "So in the above code we can say that \"name\" is a <u><b>variable</b></u>.\n",
    "\n",
    "We can change the data in a variable by just reassigning it."
   ]
  },
  {
   "cell_type": "code",
   "execution_count": null,
   "metadata": {},
   "outputs": [],
   "source": [
    "name = \"James\"\n",
    "print(name)\n",
    "\n",
    "name = \"Angela\"\n",
    "print(name)"
   ]
  },
  {
   "cell_type": "markdown",
   "metadata": {},
   "source": [
    "In the above example name varibale holds the data \"James\" at first but then the value is changed to \"Angela\" so it prints James first but after changing it prints Angela"
   ]
  },
  {
   "cell_type": "markdown",
   "metadata": {},
   "source": [
    "### Variable naming\n",
    "\n",
    "- Make your code readable, make your variables meaningful.\n",
    "- A variable name must be one single unit.\n",
    "- If you want to use multiple words in your variable name just separate them with an \"_\". eg: user_name\n",
    "- Numbers are allowed. BUT they can't be at the beginning of the variable.\n",
    "- Certain keywords are not recommended as variable names such as print, input ,etc.\n"
   ]
  }
 ],
 "metadata": {
  "kernelspec": {
   "display_name": "Python 3.10.4 64-bit",
   "language": "python",
   "name": "python3"
  },
  "language_info": {
   "codemirror_mode": {
    "name": "ipython",
    "version": 3
   },
   "file_extension": ".py",
   "mimetype": "text/x-python",
   "name": "python",
   "nbconvert_exporter": "python",
   "pygments_lexer": "ipython3",
   "version": "3.10.4"
  },
  "orig_nbformat": 4,
  "vscode": {
   "interpreter": {
    "hash": "3fdbe576eb87f4baba6a23725f58c8da03c0612f6b5c93b1de163eb7f05251e9"
   }
  }
 },
 "nbformat": 4,
 "nbformat_minor": 2
}
