{
 "cells": [
  {
   "cell_type": "markdown",
   "metadata": {},
   "source": [
    "# Day 16\n",
    "\n",
    "## Object Oriented Programming\n",
    "\n",
    "Till now we've used procedural programming. The code is from top to bottom and it only jumps in an out of functions. This gets more difficult when programs become bigger and becomes hard to track errors. This is where OOP comes in handy. \n",
    "\n",
    "In OOP, we create blueprints of things. These can either have attributes or methods. Attributes are the things that describe the object. Methods are the things that the object can do. \n",
    "\n",
    "Attributes are basically variables and methods are basically functions. But they are not part of the main code. They are part of the model.\n",
    "\n",
    "When we have created the model we can create multiple instances of the model. These are called objects. All these instances will have the same attributes and methods so we need not keep coding them one by one. The instances will be the actual things we will use in our code.\n",
    "\n",
    "**For example**: When we model a waiter. The attributes will be is_holding_plate, tables_serving etc. The methods will be take order, serve food, etc. Now we can create multiple instances of the waiter model like Henry, Betty. All these instances will have the same attributes and methods.\n",
    "\n",
    "These blueprints are called **classes**. The instances are called **objects**.\n",
    "\n",
    "To create an object from the class we can use:\n",
    "~~~python\n",
    "object_name = class_name()\n",
    "~~~\n",
    "\n",
    "\n",
    "As an example we are going to be using a class that has been written already and use it to create simple graphics."
   ]
  },
  {
   "cell_type": "code",
   "execution_count": 1,
   "metadata": {},
   "outputs": [
    {
     "name": "stdout",
     "output_type": "stream",
     "text": [
      "<turtle.Turtle object at 0x0000013DF6287760>\n"
     ]
    }
   ],
   "source": [
    "import turtle  # The turtle module holds the class we want to use\n",
    "\n",
    "# Reaches into the turtle module and uses the Turtle class to create a new turtle object \"turtle_ob\".\n",
    "turtle_ob = turtle.Turtle()\n",
    "\n",
    "print(turtle_ob)  # Prints the turtle object\n"
   ]
  },
  {
   "cell_type": "markdown",
   "metadata": {},
   "source": [
    "As we can see above we get a turtle object and when we print it we get its memory location.\n",
    "\n",
    "All objects have attributes which holds data about the object. We can access these attributes using the dot notation. For example:\n",
    "\n",
    "~~~python\n",
    "object_name.attribute_name\n",
    "~~~\n",
    "\n",
    "We can also change the value of the attribute using the dot notation. For example:\n",
    "\n",
    "~~~python\n",
    "object_name.attribute_name = new_value\n",
    "~~~"
   ]
  },
  {
   "cell_type": "code",
   "execution_count": null,
   "metadata": {},
   "outputs": [
    {
     "name": "stdout",
     "output_type": "stream",
     "text": [
      "<turtle.Turtle object at 0x0000018AEEEC4A00>\n",
      "300\n"
     ]
    }
   ],
   "source": [
    "import turtle  # The turtle module holds the class we want to use\n",
    "\n",
    "# Reaches into the turtle module and uses the Turtle class to create a new turtle object \"turtle_ob\".\n",
    "turtle_ob = turtle.Turtle()\n",
    "\n",
    "print(turtle_ob)  # Prints the turtle object\n",
    "\n",
    "# Creates a new screen object \"my_screen\" from the Screen class in the turtle module. This is the screen on which our graphics shows up.\n",
    "my_screen = turtle.Screen()\n",
    "\n",
    "# Prints the canvas height property of the screen object\n",
    "print(my_screen.canvheight)\n"
   ]
  },
  {
   "cell_type": "markdown",
   "metadata": {},
   "source": [
    "Here we create another object from the Screen class which is where the graphics are shown. We can see that the height of the screen is printed because it is a property/attribute of that object.\n",
    "\n",
    "Objects also have methods that help them to perform functions We can use the same dot notation to call the methods. For example:\n",
    "\n",
    "~~~python\n",
    "object_name.method_name(arguments)\n",
    "~~~"
   ]
  },
  {
   "cell_type": "code",
   "execution_count": 2,
   "metadata": {},
   "outputs": [
    {
     "name": "stdout",
     "output_type": "stream",
     "text": [
      "<turtle.Turtle object at 0x0000013DF6287670>\n",
      "300\n"
     ]
    }
   ],
   "source": [
    "import turtle  # The turtle module holds the class we want to use\n",
    "\n",
    "# Reaches into the turtle module and uses the Turtle class to create a new turtle object \"turtle_ob\".\n",
    "turtle_ob = turtle.Turtle()\n",
    "\n",
    "print(turtle_ob)  # Prints the turtle object\n",
    "\n",
    "# We can use a method shape to change the shape of the turtle object on the screen\n",
    "turtle_ob.shape(\"turtle\")\n",
    "\n",
    "# We can change the color of the turtle object on the screen\n",
    "turtle_ob.color(\"coral\")\n",
    "\n",
    "# Makes the turtle move forward 100 pixels\n",
    "turtle_ob.forward(100)\n",
    "\n",
    "# Creates a new screen object \"my_screen\" from the Screen class in the turtle module. This is the screen on which our graphics shows up.\n",
    "my_screen = turtle.Screen()\n",
    "\n",
    "# Prints the canvas height property of the screen object\n",
    "print(my_screen.canvheight)\n",
    "\n",
    "# We use the method exitonclick() to close the canvas only when we click on it.\n",
    "my_screen.exitonclick()\n"
   ]
  },
  {
   "cell_type": "markdown",
   "metadata": {},
   "source": [
    "## Packages\n",
    "\n",
    "Packages are bunches of python files that contain classes and functions others have written. We can import these packages and use the classes and functions in our code. We can find packages in PyPI (Python Package Index). We can also create our own packages. Installation is easy. We just need to use the pip command. For example:\n",
    "\n",
    "~~~python\n",
    "pip install package_name\n",
    "~~~\n",
    "\n",
    "We will install the prettytable object and use it to create a table."
   ]
  },
  {
   "cell_type": "code",
   "execution_count": 11,
   "metadata": {},
   "outputs": [
    {
     "name": "stdout",
     "output_type": "stream",
     "text": [
      "+--------------+----------+\n",
      "| Pokemon Name |     Type |\n",
      "+--------------+----------+\n",
      "|      Pikachu | Electric |\n",
      "|     Squirtle |    Water |\n",
      "|   Charmander |     Fire |\n",
      "+--------------+----------+\n"
     ]
    }
   ],
   "source": [
    "# PrettyTable has been imported.\n",
    "\n",
    "# Imports the prettytable module\n",
    "import prettytable\n",
    "\n",
    "table = prettytable.PrettyTable()  # Creates a new PrettyTable object\n",
    "\n",
    "# We are going to add columns to the table using its methods.\n",
    "table.add_column(\"Pokemon Name\", [\"Pikachu\", \"Squirtle\", \"Charmander\"])\n",
    "table.add_column(\"Type\", [\"Electric\", \"Water\", \"Fire\"])\n",
    "\n",
    "\n",
    "#Change the align attribute\n",
    "table.align = \"r\"\n",
    "\n",
    "table.hrules = prettytable.FRAME\n",
    "\n",
    "# Prints the table\n",
    "print(table)\n"
   ]
  }
 ],
 "metadata": {
  "kernelspec": {
   "display_name": "Python 3.10.6 ('Udemy_Python_100Days')",
   "language": "python",
   "name": "python3"
  },
  "language_info": {
   "codemirror_mode": {
    "name": "ipython",
    "version": 3
   },
   "file_extension": ".py",
   "mimetype": "text/x-python",
   "name": "python",
   "nbconvert_exporter": "python",
   "pygments_lexer": "ipython3",
   "version": "3.10.6"
  },
  "orig_nbformat": 4,
  "vscode": {
   "interpreter": {
    "hash": "1828ef83a9039e523bcd3f28ee015f286e747c7d84db353da49e263841e85bfe"
   }
  }
 },
 "nbformat": 4,
 "nbformat_minor": 2
}
