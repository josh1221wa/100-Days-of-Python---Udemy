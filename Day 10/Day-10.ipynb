{
 "cells": [
  {
   "cell_type": "markdown",
   "metadata": {},
   "source": [
    "# Day 10\n",
    "\n",
    "## Functions with Outputs\n"
   ]
  },
  {
   "cell_type": "markdown",
   "metadata": {},
   "source": [
    "We can use the return keyword to return a value from a function. This is useful for when we want to use the output of a function in our code. For example, if we want to use the result of a function in a calculation, we can use the return keyword to return the result of the function and then use that result in our calculation.\n",
    "\n",
    "We just have to assign a variable to the function call."
   ]
  },
  {
   "cell_type": "code",
   "execution_count": 1,
   "metadata": {},
   "outputs": [
    {
     "name": "stdout",
     "output_type": "stream",
     "text": [
      "6\n"
     ]
    }
   ],
   "source": [
    "def my_funct():\n",
    "    result = 3*2\n",
    "    return result\n",
    "\n",
    "output = my_funct()\n",
    "print(output)"
   ]
  },
  {
   "cell_type": "code",
   "execution_count": 2,
   "metadata": {},
   "outputs": [
    {
     "name": "stdout",
     "output_type": "stream",
     "text": [
      "John Smith\n"
     ]
    }
   ],
   "source": [
    "def format_name(f_name, l_name):\n",
    "    f_name = f_name.title()\n",
    "    l_name = l_name.title()\n",
    "    return f\"{f_name} {l_name}\"\n",
    "\n",
    "print(format_name(\"jOHN\", \"SMITH\"))"
   ]
  },
  {
   "cell_type": "markdown",
   "metadata": {},
   "source": [
    "The function will be exited at the return keyword. We can have multiple return keywords in a function. We can also have empty return keywords. The return keyword will return the value of the expression after it. If we don’t have an expression after the return keyword, it will return None."
   ]
  },
  {
   "cell_type": "code",
   "execution_count": 3,
   "metadata": {},
   "outputs": [
    {
     "name": "stdout",
     "output_type": "stream",
     "text": [
      "You didn't provide valid inputs.\n"
     ]
    }
   ],
   "source": [
    "def format_name(f_name, l_name):\n",
    "    if f_name == '' or l_name == '':\n",
    "        return \"You didn't provide valid inputs.\"\n",
    "    f_name = f_name.title()\n",
    "    l_name = l_name.title()\n",
    "    return f\"{f_name} {l_name}\"\n",
    "\n",
    "print(format_name(input(\"Enter your first name: \"), input(\"Enter your last name: \")))"
   ]
  },
  {
   "cell_type": "markdown",
   "metadata": {},
   "source": [
    "## Docstrings\n",
    "\n",
    "Are strings enclosed in \"\"\" and can span multiple lines. It can be used for documentation. It is a good practice to write docstrings for your functions."
   ]
  },
  {
   "cell_type": "markdown",
   "metadata": {},
   "source": [
    "## print vs return\n",
    "\n",
    "If we print the value in the function we cannot use it at any later point. When we use return we can store the output of the function in a variable and use it later."
   ]
  }
 ],
 "metadata": {
  "kernelspec": {
   "display_name": "Python 3.9.13 ('base')",
   "language": "python",
   "name": "python3"
  },
  "language_info": {
   "codemirror_mode": {
    "name": "ipython",
    "version": 3
   },
   "file_extension": ".py",
   "mimetype": "text/x-python",
   "name": "python",
   "nbconvert_exporter": "python",
   "pygments_lexer": "ipython3",
   "version": "3.9.13"
  },
  "orig_nbformat": 4,
  "vscode": {
   "interpreter": {
    "hash": "52a0e7b4f4c9b93c7568b039447b72228aa9ad72b6466ebee46731f7fd73c837"
   }
  }
 },
 "nbformat": 4,
 "nbformat_minor": 2
}
