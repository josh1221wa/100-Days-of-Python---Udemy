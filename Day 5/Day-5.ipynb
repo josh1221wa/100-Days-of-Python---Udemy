{
 "cells": [
  {
   "cell_type": "markdown",
   "id": "9ced8194-59f0-425d-9e5e-7759613938e6",
   "metadata": {},
   "source": [
    "# Day 5\n",
    "\n",
    "## Looping\n",
    "\n",
    "Loops are used to repeat a certain piece of code multiple times\n",
    "\n",
    "## For loop\n",
    "\n",
    "### Syntax\n",
    "\n",
    "for item in list_of_items:\n",
    ">Statement"
   ]
  },
  {
   "cell_type": "code",
   "execution_count": 1,
   "id": "465dd1ce-e512-4292-90e6-7c039359f04f",
   "metadata": {},
   "outputs": [
    {
     "name": "stdout",
     "output_type": "stream",
     "text": [
      "apple\n",
      "peach\n",
      "pear\n"
     ]
    }
   ],
   "source": [
    "fruits = [\"apple\", \"peach\", \"pear\"]\n",
    "\n",
    "for fruit in fruits:\n",
    "    print(fruit)"
   ]
  },
  {
   "cell_type": "markdown",
   "id": "a4c96a30-57e0-461f-89fa-a26bfc8573bb",
   "metadata": {},
   "source": [
    "As we can see it prints each item in the fruits list. What it is doing here is it takes each item and assigns it to the fruit variable. Then the code below is executed with the fruit variable."
   ]
  },
  {
   "cell_type": "code",
   "execution_count": 2,
   "id": "3d5c66bb-c18b-45ec-b8e4-4158c26b8220",
   "metadata": {},
   "outputs": [
    {
     "name": "stdout",
     "output_type": "stream",
     "text": [
      "apple Pie\n",
      "peach Pie\n",
      "pear Pie\n"
     ]
    }
   ],
   "source": [
    "fruits = [\"apple\", \"peach\", \"pear\"]\n",
    "\n",
    "for fruit in fruits:\n",
    "    print(fruit + \" Pie\")"
   ]
  },
  {
   "cell_type": "markdown",
   "id": "183020dc-5ca2-489f-af93-9dc3dcac2e30",
   "metadata": {},
   "source": [
    "Indentation is **REALLY** important. Whatever is indented after the for loop comes under the for loop. If it's not indented it will only run after the for loop.\n",
    "\n",
    "## The range() function\n",
    "\n",
    "Till now we've seen for loops that iterate through lists. But we don't always iterate lists. What if we just want to repeat a piece of code a specific number of times?\n",
    "\n",
    "This is why we use the range() function. The range function can generate a range of numbers to loop through."
   ]
  },
  {
   "cell_type": "code",
   "execution_count": 3,
   "id": "a1952418-fe4f-4240-9a42-ff9b0d57c767",
   "metadata": {},
   "outputs": [
    {
     "name": "stdout",
     "output_type": "stream",
     "text": [
      "1\n",
      "2\n",
      "3\n",
      "4\n",
      "5\n",
      "6\n",
      "7\n",
      "8\n",
      "9\n"
     ]
    }
   ],
   "source": [
    "for number in range(1, 10):\n",
    "    print(number)"
   ]
  },
  {
   "cell_type": "markdown",
   "id": "c47d46b0-22d8-4648-be49-a46a6c7f4ed4",
   "metadata": {},
   "source": [
    "We can see that when we use range, the last number is not taken in the loop. So if we want to print numbers from a to b then we must use range(1, b+1).\n",
    "\n",
    "By default the loop increases by 1 each type. But if we want to change the number by 2 everytime or 3 everytime. The we add a new argument called step. The step size determines how many numbers will be skipped in the range."
   ]
  },
  {
   "cell_type": "code",
   "execution_count": 4,
   "id": "fe446eb6-c299-49fe-a3a6-1b3ec8c2bb8e",
   "metadata": {},
   "outputs": [
    {
     "name": "stdout",
     "output_type": "stream",
     "text": [
      "1\n",
      "3\n",
      "5\n",
      "7\n",
      "9\n"
     ]
    }
   ],
   "source": [
    "for number in range(1, 11, 2):\n",
    "    print(number)"
   ]
  },
  {
   "cell_type": "code",
   "execution_count": 5,
   "id": "485dc809-7be3-4d3f-88cf-2821dfa15889",
   "metadata": {},
   "outputs": [
    {
     "name": "stdout",
     "output_type": "stream",
     "text": [
      "5050\n"
     ]
    }
   ],
   "source": [
    "# Add from 1 to 100 using range\n",
    "\n",
    "total = 0\n",
    "for num in range(1, 101): #101 because for loops dont include the last element\n",
    "    total += num\n",
    "print(total)"
   ]
  }
 ],
 "metadata": {
  "kernelspec": {
   "display_name": "Python 3 (ipykernel)",
   "language": "python",
   "name": "python3"
  },
  "language_info": {
   "codemirror_mode": {
    "name": "ipython",
    "version": 3
   },
   "file_extension": ".py",
   "mimetype": "text/x-python",
   "name": "python",
   "nbconvert_exporter": "python",
   "pygments_lexer": "ipython3",
   "version": "3.10.4"
  }
 },
 "nbformat": 4,
 "nbformat_minor": 5
}
