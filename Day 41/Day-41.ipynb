{
 "cells": [
  {
   "attachments": {},
   "cell_type": "markdown",
   "metadata": {},
   "source": [
    "# Day 34\n",
    "\n",
    "## How does the Internet work?\n",
    "\n",
    "The internet is just an interconnection of computers over a long distance or globally. Some of these computers are online 24/7 and they supply data and websites to the computers which ask for it. These computers are called servers. The computers which ask for data are called clients.\n",
    "\n",
    "When we ask for a website say google.com, a request is sent to our ISP and the ISP sends the request to the DNS server. The DNS server searches for the ip address for the website from its records and it sends it back to the user's browser which then loads the website.\n",
    "\n",
    "Now when we sent a direct request to the ip address it goes via our ISP to the internet backbone. The internet backbone is literally all the internet wires which connect different countris together via underwater cables. See https://www.submarinecablemap.com/ for more details.\n",
    "\n",
    "The request/message travels via the internet backbone to the original server and the server sends all the files back to the browser via the backbone and the browser loads the webpage. This happens in a matter of mere seconds.\n",
    "\n",
    "## How do websites work?\n",
    "\n",
    "We use browsers whichever one, which can be used to access the data from the given ip addresses and display it to the user. Usually 3 types of files are sent to a browser - HTML, CSS and JavaScript.\n",
    "\n",
    "HTML - Responsible for the structure of the webpage. It is the skeleton of the webpage. It builds the content of the webpage.\n",
    "CSS - Responsible for the styling of the webpage. It is the skin of the webpage. It codes the colors, fonts, sizes, etc.\n",
    "JavaScript - Responsible for the functionality of the webpage. It is the brain of the webpage. It makes the webpage interactive.\n",
    "\n",
    "## Introduction to HTML\n",
    "\n",
    "HTML is the basis for a website. It does enable our website to display text or images or tables whatever we need it to display. It is what the browsers understand and display to the user. HTML stands for HyperText Markup Language. Markup language is a language which is used to mark up a document in a particular way so that it can be displayed in a particular way.\n",
    "\n",
    "All work done on HTML is stored in this link - https://codepen.io/collection/mrxzNa\n",
    "\n",
    "## HTML Tag Structure\n",
    "\n",
    "A HTML tag will have an opening tag and a closing tag. The opening tag will have a < and a > and the closing tag will have a </ and a >. There are a few tags without a closing tag. These are called self closing tags. They are usually used to embed images or videos or to add a line break. \n",
    "\n",
    "We can add an attribute to a tag to give it some extra information. The attribute will be written inside the opening tag. The attribute will have a name and a value. The name will be written first and then the value will be written inside double quotes. The name and value will be separated by an equal sign. These attributes differ from tag to tag. We need the documentation to know what attributes are available for a particular tag.\n",
    "\n",
    "\n",
    "## HTML Boilerplate\n",
    "\n",
    "Its the code thats constant on all HTML files. \"<DOCTYPE html>\" tells us what version of HTML we're using. We using HTML 5 as of now. We have a <html> tag which is the root element of the HTML document. Inside the <html> tag is all the code for the website. Inside the <html> tag we have a <head> tag and a <body> tag. The <head> tag contains all the information about the document. The <body> tag contains all the content of the document. \n",
    "\n",
    "In the <head> tag we have the <title> tag we get to change the website title. We also have the <meta> tag. The <meta> element gives extra data to the browser when opening the webpage. The charset attribute in meta decides the character set of the text in the webpage. By default its utf-8 as standard. The search engines look at meta tags when displaying and indexing websites.\n",
    "\n",
    "\n",
    "## Images in HTML\n",
    "\n",
    "In html we can add images using the img tag but in there we have to specify an attribute src which holds either a local or a remote image url to display. We also need to specify the alt-text using the alt attribute. if the image is not displayed by the site it will display the alt-text.\n",
    "\n",
    "\n",
    "## Adding Links\n",
    "\n",
    "We can add links using the anchor tag(<a>). Inside we have to specify the href attribute which holds the url of the link. We can also add the target attribute which specifies where the link will open. The default value is _self which opens the link in the same tab. We can also use _blank which opens the link in a new tab. Whatever is inside the anchor tag will be the text of the link. We can also link other html files in our website which are on the same level as the source.\n",
    "\n",
    "## Documentations\n",
    "\n",
    "https://developer.mozilla.org/en-US/docs/Web/HTML\n",
    "\n",
    "https://www.w3schools.com/html/default.asp\n",
    "\n",
    "https://devdocs.io/ (MDN but more structured)\n",
    "\n",
    "\n"
   ]
  }
 ],
 "metadata": {
  "kernelspec": {
   "display_name": "Udemy_Python_100Days",
   "language": "python",
   "name": "python3"
  },
  "language_info": {
   "name": "python",
   "version": "3.10.6"
  },
  "orig_nbformat": 4,
  "vscode": {
   "interpreter": {
    "hash": "1828ef83a9039e523bcd3f28ee015f286e747c7d84db353da49e263841e85bfe"
   }
  }
 },
 "nbformat": 4,
 "nbformat_minor": 2
}
