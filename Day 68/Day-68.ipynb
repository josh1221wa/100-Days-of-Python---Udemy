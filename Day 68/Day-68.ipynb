{
 "cells": [
  {
   "cell_type": "markdown",
   "metadata": {},
   "source": [
    "# Day 68 \n",
    "\n",
    "## Authentication\n",
    "\n",
    "When we make a website with users we need to find ways to authenticate these users so that they get access to their data. This can be done by a number of ways, the simplest being a username and password. This is Level 1 authentication.\n",
    "\n",
    "Level 2 authentication is when we encrypt the data. There is a way for scrambling the data and only those with the key to the message can unscramble it.\n",
    "\n",
    "But the issue with encryption is that once a hacker gets the key, they can unscramble all the data. So we need a way to make sure that the key is not stolen. This is where hashing comes in. \n",
    "\n",
    "Hashing is a mathematical method of converting a string to a set of numerical data. But the thing about hashing is that it is hard to unhash a string. So we can store the hash of the password and when the user enters the password, we can hash it and compare it with the stored hash. If they match, the password is correct.\n",
    "\n",
    "To make our hash more secure so that commonly used passwords can't be cracked, we use a randomly generated string and merge it with our password, this is called salting. The salt for each user is stored in the database and is used to hash the password. "
   ]
  }
 ],
 "metadata": {
  "language_info": {
   "name": "python"
  },
  "orig_nbformat": 4
 },
 "nbformat": 4,
 "nbformat_minor": 2
}
