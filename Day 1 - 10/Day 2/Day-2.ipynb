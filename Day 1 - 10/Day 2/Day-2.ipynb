{
 "cells": [
  {
   "cell_type": "markdown",
   "metadata": {},
   "source": [
    "# Day 2\n",
    "\n",
    "## Datatypes in Python\n",
    "\n",
    "### Strings\n",
    "\n",
    "We saw strings in Day-1. A string is text and are generally flanked by double-quotes.\n",
    "\n",
    "We can get one character at a specific position of a string using <u><b>subscripting</u></b>."
   ]
  },
  {
   "cell_type": "code",
   "execution_count": 1,
   "metadata": {},
   "outputs": [
    {
     "name": "stdout",
     "output_type": "stream",
     "text": [
      "H\n"
     ]
    }
   ],
   "source": [
    "str1 = \"Hello\"\n",
    "print(str1[0])"
   ]
  },
  {
   "cell_type": "markdown",
   "metadata": {},
   "source": [
    "As we can see we used suscripting to get the first character in the given string. Note that [] are used and inside the square brackets we have a value. This value is called the <b><u>index</u></b>.\n",
    "\n",
    "<u>Note</u> : The index always starts with 0. So the first position of the string is at index 0 and the second position is at index 1 and so on... The last position is at index n-1 (where n is the number of characters in the string.)\n",
    "\n",
    "If any text is enclosed with double quotes it's a string even numbers. For example,"
   ]
  },
  {
   "cell_type": "code",
   "execution_count": 2,
   "metadata": {},
   "outputs": [
    {
     "name": "stdout",
     "output_type": "stream",
     "text": [
      "123345\n"
     ]
    }
   ],
   "source": [
    "num1 = \"123\"\n",
    "num2 = \"345\"\n",
    "print(num1 + num2)"
   ]
  },
  {
   "cell_type": "markdown",
   "metadata": {},
   "source": [
    "This just does concatenation as both are still strings."
   ]
  },
  {
   "cell_type": "markdown",
   "metadata": {},
   "source": [
    "### Integer\n",
    "\n",
    "These are just integer numbers without any decimal points. To write this we just give the number as value. It need not be enclosed in anything.\n",
    "\n",
    "When we write large numbers we write it as 12,582. In python the commas may be replaced with _ and the computer will just ignore it when doing operations. We humans will have the benefit when we read it"
   ]
  },
  {
   "cell_type": "code",
   "execution_count": 3,
   "metadata": {},
   "outputs": [
    {
     "name": "stdout",
     "output_type": "stream",
     "text": [
      "123\n",
      "123234\n"
     ]
    }
   ],
   "source": [
    "print(123)\n",
    "print(123_234)"
   ]
  },
  {
   "cell_type": "markdown",
   "metadata": {},
   "source": [
    "### Float\n",
    "\n",
    "It's short for a floating point number. These numbers have decimal places."
   ]
  },
  {
   "cell_type": "markdown",
   "metadata": {},
   "source": [
    "### Boolean\n",
    "\n",
    "Boolean can have only 2 possible values True or False. These are used in conditions. These are not strings they are not enclosed in quotes"
   ]
  },
  {
   "cell_type": "markdown",
   "metadata": {},
   "source": [
    "## The Type Error\n",
    "\n",
    "When we give a value of the wrong datatype to a function we get a TypeError. For example, The len function cannot take int values as arguments."
   ]
  },
  {
   "cell_type": "code",
   "execution_count": 4,
   "metadata": {},
   "outputs": [
    {
     "ename": "TypeError",
     "evalue": "object of type 'int' has no len()",
     "output_type": "error",
     "traceback": [
      "\u001b[1;31m---------------------------------------------------------------------------\u001b[0m",
      "\u001b[1;31mTypeError\u001b[0m                                 Traceback (most recent call last)",
      "Input \u001b[1;32mIn [4]\u001b[0m, in \u001b[0;36m<cell line: 1>\u001b[1;34m()\u001b[0m\n\u001b[1;32m----> 1\u001b[0m \u001b[38;5;28mprint\u001b[39m(\u001b[38;5;28;43mlen\u001b[39;49m\u001b[43m(\u001b[49m\u001b[38;5;241;43m234\u001b[39;49m\u001b[43m)\u001b[49m)\n",
      "\u001b[1;31mTypeError\u001b[0m: object of type 'int' has no len()"
     ]
    }
   ],
   "source": [
    "print(len(234))"
   ]
  },
  {
   "cell_type": "markdown",
   "metadata": {},
   "source": [
    "We cannot concatenate integers with strings we also get a TypeErrors.\n",
    "\n",
    "## Typechecking\n",
    "\n",
    "We can use the function type() and pass the data as an argument and we get the type of the data. This is helpful to know what type your data is."
   ]
  },
  {
   "cell_type": "code",
   "execution_count": 5,
   "metadata": {},
   "outputs": [
    {
     "name": "stdout",
     "output_type": "stream",
     "text": [
      "<class 'int'>\n",
      "<class 'float'>\n",
      "<class 'str'>\n",
      "<class 'bool'>\n"
     ]
    }
   ],
   "source": [
    "print(type(234))\n",
    "print(type(234.0))\n",
    "print(type(\"234\"))\n",
    "print(type(True))"
   ]
  },
  {
   "cell_type": "markdown",
   "metadata": {},
   "source": [
    "## Typecasting/Typeconversion\n",
    "\n",
    "If we want to interchage types in python we can use <u><b>typecasting</u></b>.\n",
    "\n",
    "### Convert an integer to string\n",
    "\n",
    "We can convert an integer value into a string using str() function with integer as argument and it will convert it into a string. We can then use it like a string with len function, concatenation, etc."
   ]
  },
  {
   "cell_type": "code",
   "execution_count": 6,
   "metadata": {},
   "outputs": [
    {
     "name": "stdout",
     "output_type": "stream",
     "text": [
      "<class 'int'>\n",
      "<class 'str'>\n"
     ]
    }
   ],
   "source": [
    "n = 123\n",
    "print(type(n))\n",
    "\n",
    "n = str(n)\n",
    "print(type(n))"
   ]
  },
  {
   "cell_type": "markdown",
   "metadata": {},
   "source": [
    "Like this we can convert a lot of data to different types. Below you can see an integer converted to string, float and back to an integer"
   ]
  },
  {
   "cell_type": "code",
   "execution_count": 7,
   "metadata": {},
   "outputs": [
    {
     "name": "stdout",
     "output_type": "stream",
     "text": [
      "<class 'int'>\n",
      "<class 'str'>\n",
      "<class 'float'>\n",
      "<class 'int'>\n"
     ]
    }
   ],
   "source": [
    "n = 123\n",
    "print(type(n))\n",
    "\n",
    "n = str(n)\n",
    "print(type(n))\n",
    "\n",
    "n = float(n)\n",
    "print(type(n))\n",
    "\n",
    "n = int(n)\n",
    "print(type(n))"
   ]
  },
  {
   "cell_type": "markdown",
   "metadata": {},
   "source": [
    "## Mathematical Operators in Python\n",
    "\n",
    "- \"+\" is for Addition\n",
    "- \"-\" is for Subtraction\n",
    "- \"*\" is for Multiplication\n",
    "- \"/\" is for Division\n",
    "- \"**\" is for exponentiation"
   ]
  },
  {
   "cell_type": "code",
   "execution_count": 8,
   "metadata": {},
   "outputs": [
    {
     "name": "stdout",
     "output_type": "stream",
     "text": [
      "8\n",
      "2\n",
      "10\n",
      "2.0\n",
      "4\n"
     ]
    }
   ],
   "source": [
    "print(3+5)\n",
    "\n",
    "print(5-3)\n",
    "\n",
    "print(5*2)\n",
    "\n",
    "print(6/3)\n",
    "\n",
    "print(2**2)"
   ]
  },
  {
   "cell_type": "markdown",
   "metadata": {},
   "source": [
    "We can see that division will always give a float value as output."
   ]
  },
  {
   "cell_type": "markdown",
   "metadata": {},
   "source": [
    "### Priority of Operators\n",
    "\n",
    "When there are multiple operators in one line of code there is a certain preference given to each operator. \n",
    "\n",
    "The order of precedence is \n",
    "\n",
    "() > * / > + -\n",
    "\n",
    "Note: If two operators are of equal importance we have to do calculation from left to right\n",
    "\n",
    "We can use () to do some calculation with a lower precedence operator first\n"
   ]
  },
  {
   "cell_type": "code",
   "execution_count": 9,
   "metadata": {},
   "outputs": [
    {
     "name": "stdout",
     "output_type": "stream",
     "text": [
      "4.0\n",
      "2.0\n"
     ]
    }
   ],
   "source": [
    "print(3+3/3)\n",
    "\n",
    "print((3+3)/3)"
   ]
  },
  {
   "cell_type": "markdown",
   "metadata": {},
   "source": [
    "## Number Manipulation\n",
    "\n",
    "Suppose we do a division with a long decimal answer (eg: 8/3). We can use the round function passing the expression as argument."
   ]
  },
  {
   "cell_type": "code",
   "execution_count": 10,
   "metadata": {},
   "outputs": [
    {
     "name": "stdout",
     "output_type": "stream",
     "text": [
      "2.6666666666666665\n",
      "3\n"
     ]
    }
   ],
   "source": [
    "print(8/3)\n",
    "\n",
    "print(round(8/3))"
   ]
  },
  {
   "cell_type": "markdown",
   "metadata": {},
   "source": [
    "We can also round to the number of decimal places we want using a second argument."
   ]
  },
  {
   "cell_type": "code",
   "execution_count": 11,
   "metadata": {},
   "outputs": [
    {
     "name": "stdout",
     "output_type": "stream",
     "text": [
      "2.67\n"
     ]
    }
   ],
   "source": [
    "print(round(8/3, 2))"
   ]
  },
  {
   "cell_type": "markdown",
   "metadata": {},
   "source": [
    "Another way is to use a new operator //. This is called <u><b>floor division</b></u>. This will return the answer as the nearest whole number lesser than the decimal answer."
   ]
  },
  {
   "cell_type": "code",
   "execution_count": 12,
   "metadata": {},
   "outputs": [
    {
     "name": "stdout",
     "output_type": "stream",
     "text": [
      "2\n"
     ]
    }
   ],
   "source": [
    "print(8//3)"
   ]
  },
  {
   "cell_type": "markdown",
   "metadata": {},
   "source": [
    "We can also shorten our code lines by using special operators that replace long operations. For example we can replace x = x + y with x += y"
   ]
  },
  {
   "cell_type": "code",
   "execution_count": 13,
   "metadata": {},
   "outputs": [],
   "source": [
    "result = 4\n",
    "result += 2\n",
    "result /= 3"
   ]
  },
  {
   "cell_type": "markdown",
   "metadata": {},
   "source": [
    "## F-Strings\n",
    "\n",
    "When we try to concatenate an integer to a string we have to convert it to a string and then concatenate which will get tiresome when we have a lot of integers involved. A convenient way of incorporating things which have different datatypes are called <u><b>F-Strings</b></u>"
   ]
  },
  {
   "cell_type": "code",
   "execution_count": 14,
   "metadata": {},
   "outputs": [
    {
     "name": "stdout",
     "output_type": "stream",
     "text": [
      "Enter score:  25\n"
     ]
    },
    {
     "name": "stdout",
     "output_type": "stream",
     "text": [
      "Score is 25, your height is 1.67\n"
     ]
    }
   ],
   "source": [
    "score = input(\"Enter score: \")\n",
    "height = 1.67\n",
    "\n",
    "print(f\"Score is {score}, your height is {height}\")"
   ]
  },
  {
   "cell_type": "markdown",
   "metadata": {},
   "source": [
    "As we can see using f-strings just require us to put an \"f\" before the string and then add the variable name in {}. The conversion and concatenation will be done automatically."
   ]
  }
 ],
 "metadata": {
  "kernelspec": {
   "display_name": "Python 3.9.13 ('base')",
   "language": "python",
   "name": "python3"
  },
  "language_info": {
   "codemirror_mode": {
    "name": "ipython",
    "version": 3
   },
   "file_extension": ".py",
   "mimetype": "text/x-python",
   "name": "python",
   "nbconvert_exporter": "python",
   "pygments_lexer": "ipython3",
   "version": "3.9.13"
  },
  "vscode": {
   "interpreter": {
    "hash": "52a0e7b4f4c9b93c7568b039447b72228aa9ad72b6466ebee46731f7fd73c837"
   }
  }
 },
 "nbformat": 4,
 "nbformat_minor": 4
}
