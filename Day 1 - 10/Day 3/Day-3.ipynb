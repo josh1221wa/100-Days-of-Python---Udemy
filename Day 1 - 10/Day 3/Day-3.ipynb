{
 "cells": [
  {
   "cell_type": "markdown",
   "metadata": {},
   "source": [
    "# Day 3\n",
    "\n",
    "## Conditional Statements\n",
    "\n",
    "We can choose to do a block of code if a given condition is True. If the consition is False we can do another block og code. This is called <u><b>if-else</b></u>.\n",
    "\n",
    "### <u>Syntax</u>\n",
    "\n",
    "```python\n",
    "if condition:\n",
    "    statement 1\n",
    "\n",
    "else:\n",
    "    statement 2\n",
    "```    \n",
    "\n",
    "statement 1 is executed if the condition is True otherwise statement 2 is executed."
   ]
  },
  {
   "cell_type": "code",
   "execution_count": 23,
   "metadata": {},
   "outputs": [
    {
     "name": "stdout",
     "output_type": "stream",
     "text": [
      "Enter your height in cms:  121\n"
     ]
    },
    {
     "name": "stdout",
     "output_type": "stream",
     "text": [
      "You can get on the ride\n"
     ]
    }
   ],
   "source": [
    "# Program to check wether the user is tall enough to get on a ride\n",
    "\n",
    "height = int(input(\"Enter your height in cms: \"))\n",
    "if height>120:\n",
    "    print(\"You can get on the ride\")\n",
    "else:\n",
    "    print(\"You can't get on the ride\")"
   ]
  },
  {
   "cell_type": "markdown",
   "metadata": {
    "jp-MarkdownHeadingCollapsed": true,
    "tags": []
   },
   "source": [
    "We can see that the statements to be run under the condition are not staring at the beginning of the line. This is called <b><u>indentation</u></b>. This tells the compiler that the given statements are part of the condition. Wrong indentation gives us an <u>**IndentationError**</u>.\n",
    "\n",
    "## Comparison Operators\n",
    "\n",
    "These operators are used to compare values. We may have used them in scientific notation and the meanings stay the same.\n",
    "\n",
    "\">\" - Greater than\\\n",
    "\">=\" - Greater than or equal to\\\n",
    "\"<\" - Lesser than\\\n",
    "\"<=\" - Lesser than or equal to\\\n",
    "\"==\" - Equal to\n",
    "\n",
    "<u>Note</u>: = is not the same as ==. The former is used to assign values to variables and the latter is used to check if 2 values are same or not."
   ]
  },
  {
   "cell_type": "markdown",
   "metadata": {},
   "source": [
    "## Modulo Operator \n",
    "\n",
    "It will divide two numbers and give the remainder as value."
   ]
  },
  {
   "cell_type": "code",
   "execution_count": 24,
   "metadata": {},
   "outputs": [
    {
     "name": "stdout",
     "output_type": "stream",
     "text": [
      "1\n",
      "3\n"
     ]
    }
   ],
   "source": [
    "print(3%2)\n",
    "\n",
    "print(3%5)"
   ]
  },
  {
   "cell_type": "markdown",
   "metadata": {},
   "source": [
    "## Nested if-else statement\n",
    "\n",
    "In a nested if else statement we check if one condition has passed and then we have another if else statement inside the first one."
   ]
  },
  {
   "cell_type": "code",
   "execution_count": 25,
   "metadata": {},
   "outputs": [
    {
     "name": "stdout",
     "output_type": "stream",
     "text": [
      "Enter your height in cms:  121\n"
     ]
    },
    {
     "name": "stdout",
     "output_type": "stream",
     "text": [
      "You can get on the ride\n"
     ]
    },
    {
     "name": "stdout",
     "output_type": "stream",
     "text": [
      "Enter your age:  4\n"
     ]
    },
    {
     "name": "stdout",
     "output_type": "stream",
     "text": [
      "Please pay $7\n"
     ]
    }
   ],
   "source": [
    "# Program to check wether the user is tall enough to get on a ride and checks age for ticket price\n",
    "\n",
    "height = int(input(\"Enter your height in cms: \"))\n",
    "if height>120:\n",
    "    print(\"You can get on the ride\")\n",
    "    age = int(input(\"Enter your age: \"))\n",
    "    if age<18:\n",
    "        print(\"Please pay $7\")\n",
    "    else:\n",
    "        print(\"Please pay $12\")\n",
    "else:\n",
    "    print(\"You can't get on the ride\")"
   ]
  },
  {
   "cell_type": "markdown",
   "metadata": {},
   "source": [
    "Here we can see the the age is checked only if they are eligible to use the ride.\n",
    "\n",
    "## If/elif/else\n",
    "\n",
    "Suppose we have multiple conditions we have to check. There we use if/elif/else. The first check is always if, then all elif then only else.\n",
    "\n",
    "### **<u>Syntax</u>**\n",
    "\n",
    "```python\n",
    "if condition1:\n",
    "    statement\n",
    "\n",
    "elif condition2:\n",
    "    statement\n",
    "\n",
    "elif condition3:\n",
    "    statement\n",
    "\n",
    "else:\n",
    "    statement\n",
    "```"
   ]
  },
  {
   "cell_type": "code",
   "execution_count": 26,
   "metadata": {},
   "outputs": [
    {
     "name": "stdout",
     "output_type": "stream",
     "text": [
      "Enter your height in cms:  234\n"
     ]
    },
    {
     "name": "stdout",
     "output_type": "stream",
     "text": [
      "You can get on the ride\n"
     ]
    },
    {
     "name": "stdout",
     "output_type": "stream",
     "text": [
      "Enter your age:  13\n"
     ]
    },
    {
     "name": "stdout",
     "output_type": "stream",
     "text": [
      "Please pay $7\n"
     ]
    }
   ],
   "source": [
    "# Program to check wether the user is tall enough to get on a ride and checks age for ticket price\n",
    "\n",
    "height = int(input(\"Enter your height in cms: \"))\n",
    "if height>120:\n",
    "    print(\"You can get on the ride\")\n",
    "    age = int(input(\"Enter your age: \"))\n",
    "    if age<12:\n",
    "        print(\"Please pay $5\")\n",
    "    elif age<18:\n",
    "        print(\"Please pay $7\")\n",
    "    else:\n",
    "        print(\"Please pay $12\")\n",
    "else:\n",
    "    print(\"You can't get on the ride\")"
   ]
  },
  {
   "cell_type": "markdown",
   "metadata": {},
   "source": [
    "## Consecutive if-statements\n",
    "\n",
    "In the above cases if one of the if comes true, the compiler will skip all the remaining conditions and exit the if. If we want it to check every condition we can do so by just using if statements consecutively.\n",
    "\n",
    "### **<u>Syntax</u>**\n",
    "\n",
    "```python\n",
    "if condition1:\n",
    "    statement 1\n",
    "\n",
    "if condition2:\n",
    "    statement 2\n",
    "\n",
    "if condition3:\n",
    "    statement 3\n",
    "```\n",
    "\n",
    "If all three conditions are true all three statements will be run."
   ]
  },
  {
   "cell_type": "code",
   "execution_count": 27,
   "metadata": {},
   "outputs": [
    {
     "name": "stdout",
     "output_type": "stream",
     "text": [
      "Enter your height in cms:  123\n"
     ]
    },
    {
     "name": "stdout",
     "output_type": "stream",
     "text": [
      "You can get on the ride\n"
     ]
    },
    {
     "name": "stdout",
     "output_type": "stream",
     "text": [
      "Enter your age:  25\n"
     ]
    },
    {
     "name": "stdout",
     "output_type": "stream",
     "text": [
      "Ticket is $12\n"
     ]
    },
    {
     "name": "stdout",
     "output_type": "stream",
     "text": [
      "Do you want a photo? Y/N Y\n"
     ]
    },
    {
     "name": "stdout",
     "output_type": "stream",
     "text": [
      "Your bill is 15\n"
     ]
    }
   ],
   "source": [
    "# Program to check wether the user is tall enough to get on a ride and checks age for ticket price. Checks also if the user wants a photo taken\n",
    "\n",
    "height = int(input(\"Enter your height in cms: \"))\n",
    "if height>120:\n",
    "    print(\"You can get on the ride\")\n",
    "    age = int(input(\"Enter your age: \"))\n",
    "    if age<12:\n",
    "        print(\"Ticket is $5\")\n",
    "        bill = 5\n",
    "    elif age<18:\n",
    "        print(\"Ticket is $7\")\n",
    "        bill = 7\n",
    "    else:\n",
    "        print(\"Ticket is $12\")\n",
    "        bill = 12\n",
    "    \n",
    "    photo_ticket = input(\"Do you want a photo? Y/N\")\n",
    "    \n",
    "    if photo_ticket == \"Y\":\n",
    "        bill+=3\n",
    "        \n",
    "    print(f\"Your bill is {bill}\")\n",
    "else:\n",
    "    print(\"You can't get on the ride\")"
   ]
  },
  {
   "cell_type": "markdown",
   "metadata": {},
   "source": [
    "## Logical Operators\n",
    "\n",
    "Till now we could only check one condition in one line. But we can check multiple conditions in the same line of code using **<u>Logical Operators</u>**.\n",
    "\n",
    "### <u>**And Operator**</u>\n",
    "\n",
    "Both conditions given to the and operator must be True for the operator to return True."
   ]
  },
  {
   "cell_type": "code",
   "execution_count": 28,
   "metadata": {},
   "outputs": [
    {
     "name": "stdout",
     "output_type": "stream",
     "text": [
      "True\n",
      "False\n",
      "True\n",
      "False\n",
      "---\n",
      "\n",
      "False\n",
      "True\n",
      "False\n"
     ]
    }
   ],
   "source": [
    "a = 15\n",
    "b = 10\n",
    "c = 7\n",
    "\n",
    "print(a>b)\n",
    "print(b>a)\n",
    "print(a>c)\n",
    "print(a<c)\n",
    "print(\"---\\n\")\n",
    "\n",
    "print(a>b and b>a)  # One is False other is True\n",
    "print(a>b and a>c)  # Both are True\n",
    "print(b>a or a<c)   # Both are False"
   ]
  },
  {
   "cell_type": "markdown",
   "metadata": {},
   "source": [
    "As we saw above if only one of the conditions are True the and operator gives a False. If both are True it returns True.\n",
    "\n",
    "### <u>**Or Operator**</u>\n",
    "\n",
    "In or operator any one of the conditions can be True and it will return True. It is only when both are False do we get returned False."
   ]
  },
  {
   "cell_type": "code",
   "execution_count": 29,
   "metadata": {},
   "outputs": [
    {
     "name": "stdout",
     "output_type": "stream",
     "text": [
      "True\n",
      "False\n",
      "True\n",
      "False\n",
      "---\n",
      "\n",
      "True\n",
      "True\n",
      "False\n"
     ]
    }
   ],
   "source": [
    "a = 15\n",
    "b = 10\n",
    "c = 7\n",
    "\n",
    "print(a>b)\n",
    "print(b>a)\n",
    "print(a>c)\n",
    "print(a<c)\n",
    "print(\"---\\n\")\n",
    "\n",
    "print(a>b or b>a)   # One is False other is True\n",
    "print(a>b or a>c)   # Both are True\n",
    "print(b>a or a<c)   # Both are False"
   ]
  },
  {
   "cell_type": "markdown",
   "metadata": {},
   "source": [
    "### <u>**Not Operator**</u>\n",
    "\n",
    "It just takes one condition and reverses it. If it is False it returns True, If it is Tur it returns False"
   ]
  },
  {
   "cell_type": "code",
   "execution_count": 30,
   "metadata": {},
   "outputs": [
    {
     "name": "stdout",
     "output_type": "stream",
     "text": [
      "True\n",
      "---\n",
      "False\n"
     ]
    }
   ],
   "source": [
    "a = 10\n",
    "\n",
    "print(a<15)\n",
    "print(\"---\")\n",
    "print(not a<15)"
   ]
  },
  {
   "cell_type": "code",
   "execution_count": 33,
   "metadata": {},
   "outputs": [
    {
     "name": "stdout",
     "output_type": "stream",
     "text": [
      "Enter your height in cms:  123\n"
     ]
    },
    {
     "name": "stdout",
     "output_type": "stream",
     "text": [
      "You can get on the ride\n"
     ]
    },
    {
     "name": "stdout",
     "output_type": "stream",
     "text": [
      "Enter your age:  49\n"
     ]
    },
    {
     "name": "stdout",
     "output_type": "stream",
     "text": [
      "Everything is going to be okay. Have a free ride on us\n"
     ]
    },
    {
     "name": "stdout",
     "output_type": "stream",
     "text": [
      "Do you want a photo? Y/N Y\n"
     ]
    },
    {
     "name": "stdout",
     "output_type": "stream",
     "text": [
      "Your bill is 3\n"
     ]
    }
   ],
   "source": [
    "# Program to check wether the user is tall enough to get on a ride and checks age for ticket price. Checks also if the user wants a photo taken> if they are middle aged they get a free ride.\n",
    "\n",
    "height = int(input(\"Enter your height in cms: \"))\n",
    "if height>120:\n",
    "    print(\"You can get on the ride\")\n",
    "    age = int(input(\"Enter your age: \"))\n",
    "    if age<12:\n",
    "        print(\"Ticket is $5\")\n",
    "        bill = 5\n",
    "    elif age<18:\n",
    "        print(\"Ticket is $7\")\n",
    "        bill = 7\n",
    "    elif age >= 45 and age<= 55:\n",
    "        print(\"Everything is going to be okay. Have a free ride on us\")\n",
    "        bill = 0\n",
    "    else:\n",
    "        print(\"Ticket is $12\")\n",
    "        bill = 12\n",
    "    \n",
    "    photo_ticket = input(\"Do you want a photo? Y/N\")\n",
    "    \n",
    "    if photo_ticket == \"Y\":\n",
    "        bill+=3\n",
    "        \n",
    "    print(f\"Your bill is {bill}\")\n",
    "else:\n",
    "    print(\"You can't get on the ride\")"
   ]
  }
 ],
 "metadata": {
  "kernelspec": {
   "display_name": "Python 3.9.13 ('base')",
   "language": "python",
   "name": "python3"
  },
  "language_info": {
   "codemirror_mode": {
    "name": "ipython",
    "version": 3
   },
   "file_extension": ".py",
   "mimetype": "text/x-python",
   "name": "python",
   "nbconvert_exporter": "python",
   "pygments_lexer": "ipython3",
   "version": "3.9.13"
  },
  "vscode": {
   "interpreter": {
    "hash": "52a0e7b4f4c9b93c7568b039447b72228aa9ad72b6466ebee46731f7fd73c837"
   }
  }
 },
 "nbformat": 4,
 "nbformat_minor": 4
}
