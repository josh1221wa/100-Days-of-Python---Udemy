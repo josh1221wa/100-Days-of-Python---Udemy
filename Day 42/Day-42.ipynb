{
 "cells": [
  {
   "attachments": {},
   "cell_type": "markdown",
   "metadata": {},
   "source": [
    "# Day 42\n",
    "\n",
    "## HTML Tables\n",
    "\n",
    "We can create tables in HTML using the table tag. Inside it we can make a row using the tr tag and then add cells using the td tag. We can also add a header row using the th tag.\n",
    "\n",
    "We can always use tables for layout without using CSS.\n",
    "\n",
    "## HTML Forms\n",
    "\n",
    "We can create a form using the form tag. Inside it we can add input fields using the input tag. We can also add a submit button using the button tag. Add labels to the input fields using the label tag.\n"
   ]
  }
 ],
 "metadata": {
  "language_info": {
   "name": "python"
  },
  "orig_nbformat": 4
 },
 "nbformat": 4,
 "nbformat_minor": 2
}
