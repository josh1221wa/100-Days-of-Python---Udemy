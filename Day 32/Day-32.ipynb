{
 "cells": [
  {
   "attachments": {},
   "cell_type": "markdown",
   "metadata": {},
   "source": [
    "# Day 32\n",
    "\n",
    "## Sending Emails with Python using SMTP\n",
    "\n",
    "Email is sent using SMTP or Simnple Mail Transfer Protocol. SMTP is a protocol that allows you to send emails from one server to another. Once the mail reaches the recipients email server, the recipients email client downloads the mail onto their PC.\n",
    "\n",
    "We send emails using the smtplib module which is inbuilt omto Python. After importing we create a new smtp object with the location of our email provider's SMTP server. For example, for gmail it's smtp.gmail.com. We also have to specify the port number. For gmail it's 587.\n",
    "\n",
    "After creating the object we use the starttls method to encrypt our connection with our server. We then login to our email account using the login method. We give our username and password as arguments.\n",
    "\n",
    "After logging in we use the sendmail method to send our email. We give the sender's email address, the recipient's email address and the message as arguments. The message is a string that contains the subject, the body of the email and the email headers.\n",
    "\n",
    "After sending the email we must use the close method to close the connection with the server.\n"
   ]
  },
  {
   "cell_type": "code",
   "execution_count": 1,
   "metadata": {},
   "outputs": [],
   "source": [
    "# The email and passwords are stored in a python module which is not uploaded to github for privacy purposes.\n",
    "\n",
    "import smtplib\n",
    "import confidential\n",
    "\n",
    "my_email = confidential.MAIL_ID\n",
    "password = confidential.PASSWORD\n",
    "\n",
    "with smtplib.SMTP(\"smtp.gmail.com\", 587) as connection:\n",
    "    connection.starttls()\n",
    "    connection.login(user=my_email, password=password)\n",
    "    connection.sendmail(from_addr=my_email, to_addrs=\"qmq3tk+9g1wdy2ualxbg@sharklasers.com\", msg=\"Subject:Testing mail\\n\\nThis is the body of the email.\")   # Random mail from guerilla mail"
   ]
  },
  {
   "cell_type": "markdown",
   "metadata": {},
   "source": [
    "\n",
    "\n",
    "### Troubleshooting\n",
    "\n",
    "With gmail we have to do a bit of troubleshooting to enable it. We must make sure that we have enabled 2Factor Authentication. We must create an app password for our email account and use that as our password.\n",
    "\n",
    "Sometimes our mail may go in the spam folder. We can avoid this by adding a subject in our message. The subject can be added inside our message parameter. Just change the message parameter to the following format. \"Subject: Subject of the email\\n\\nBody of the email\"\n",
    "\n",
    "Same as files we can use the with keyword to open our connection and avoid typing the close method..\n",
    "\n",
    "\n",
    "## The Datetime Module\n",
    "\n",
    "The datetime module is used to get the current date and time and can be used for other functions with dates. the datetime module has a class called datetime which can be used to store, work and represent dates. To get the current date and time we use the datetime.now() method. This method returns a datetime object.\n",
    "\n",
    "We can access the attributes of a datetime object to get the year, month, day, hour, minute, second, etc as an integer. We can also use the weekday method to get the day of the week as an integer. Monday is 0 and Sunday is 6.\n",
    "\n",
    "We can create a datetime object with a specific date by passing the year, month and day as arguments to the datetime class. We can also pass the hour, minute, second and microsecond as arguments. Day, month and year are required arguments while the rest are all optional."
   ]
  },
  {
   "cell_type": "code",
   "execution_count": 3,
   "metadata": {},
   "outputs": [
    {
     "name": "stdout",
     "output_type": "stream",
     "text": [
      "13/12/2022\n",
      "2003-02-25 00:00:00\n",
      "1\n"
     ]
    }
   ],
   "source": [
    "import datetime as dt\n",
    "\n",
    "now = dt.datetime.now()\n",
    "print(now.day, now.month, now.year, sep=\"/\")\n",
    "\n",
    "date_of_birth = dt.datetime(year=2003, month=2, day=25)\n",
    "print(date_of_birth)\n",
    "print(date_of_birth.weekday())"
   ]
  },
  {
   "attachments": {},
   "cell_type": "markdown",
   "metadata": {},
   "source": [
    "### Challenge 1: Send Motivational Emails on Weekdays"
   ]
  },
  {
   "cell_type": "code",
   "execution_count": 9,
   "metadata": {},
   "outputs": [],
   "source": [
    "import datetime as dt\n",
    "import smtplib\n",
    "import random\n",
    "\n",
    "my_email = confidential.MAIL_ID\n",
    "password = confidential.PASSWORD\n",
    "\n",
    "now = dt.datetime.now()\n",
    "if now.weekday() == 1:\n",
    "    with smtplib.SMTP(\"smtp.gmail.com\", 587) as connection:\n",
    "        connection.starttls()\n",
    "        connection.login(user=my_email, password=password)\n",
    "        with open(r\"Example Files/quotes.txt\") as quotes:\n",
    "            connection.sendmail(from_addr=my_email, to_addrs= \"vufobsil@sharklasers.com\", msg=f\"Subject:Motivation\\n\\n{random.choice(quotes.readlines())}\")"
   ]
  },
  {
   "attachments": {},
   "cell_type": "markdown",
   "metadata": {},
   "source": [
    "## Note\n",
    "\n",
    "Go to PythonAnywhere to run python programs on the cloud."
   ]
  }
 ],
 "metadata": {
  "kernelspec": {
   "display_name": "Udemy_Python_100Days",
   "language": "python",
   "name": "python3"
  },
  "language_info": {
   "codemirror_mode": {
    "name": "ipython",
    "version": 3
   },
   "file_extension": ".py",
   "mimetype": "text/x-python",
   "name": "python",
   "nbconvert_exporter": "python",
   "pygments_lexer": "ipython3",
   "version": "3.10.6 | packaged by conda-forge | (main, Oct 24 2022, 16:02:16) [MSC v.1916 64 bit (AMD64)]"
  },
  "orig_nbformat": 4,
  "vscode": {
   "interpreter": {
    "hash": "1828ef83a9039e523bcd3f28ee015f286e747c7d84db353da49e263841e85bfe"
   }
  }
 },
 "nbformat": 4,
 "nbformat_minor": 2
}
