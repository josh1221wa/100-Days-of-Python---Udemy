{
 "cells": [
  {
   "attachments": {},
   "cell_type": "markdown",
   "metadata": {},
   "source": [
    "# Day 30\n",
    "\n",
    "## Errors\n",
    "\n",
    "We have come across different errors in our code. Normally when we get an error the program will terminate at that particular line and doesen't go forward. Instead of terminating the program we can control what happens when we come across an error. This is done by catching the statements. We have 4 keywords that we use when handling exceptions.\n",
    "\n",
    "### try\n",
    "\n",
    "The try block contains the statements that may give an error. It need not actually have any errors ibn it.\n",
    "\n",
    "### except\n",
    "\n",
    "The except keyword is after the try block. It is what we want to happen when we get an error. We can have multiple except blocks. \n",
    "\n",
    "### else\n",
    "\n",
    "The else block is what we want to happen when there is no error. It is optional.\n",
    "\n",
    "### finally\n",
    "\n",
    "The finally block is what we want to happen no matter what happens. It is optional.\n",
    "\n"
   ]
  },
  {
   "cell_type": "code",
   "execution_count": 8,
   "metadata": {},
   "outputs": [],
   "source": [
    "try:\n",
    "    file = open(r\"Example Files/a.txt\", \"r\")    #Throws error if file doesen't exist\n",
    "except:\n",
    "    file = open(r\"Example Files/a.txt\", \"w\")    #If file doesen't exist, it creates the file\n"
   ]
  },
  {
   "attachments": {},
   "cell_type": "markdown",
   "metadata": {},
   "source": [
    "Now this except is a general except i.e. it will catch any and all errors. We can also specify the type of error we want to catch so it will only catch that specific error. We can also specify multiple errors in the except block and we can spcify what we want to happen when we get each error.\n",
    "\n",
    "We can also get the error meesage into a variable and can use it in our program."
   ]
  },
  {
   "cell_type": "code",
   "execution_count": 22,
   "metadata": {},
   "outputs": [
    {
     "name": "stdout",
     "output_type": "stream",
     "text": [
      "That key 'James' is not in the dictionary\n",
      "File was closed\n"
     ]
    }
   ],
   "source": [
    "try:\n",
    "    file = open(r\"Example Files/a.txt\", \"r\")    #Throws error if file doesen't exist\n",
    "    dict1 = {\"1\":\"a\"}\n",
    "    print(dict1[\"James\"])   #Comment this line to get different outputs\n",
    "except FileNotFoundError:\n",
    "    file = open(r\"Example Files/a.txt\", \"w\")    #If file doesen't exist, it creates the file\n",
    "    file.write(\"value\")\n",
    "\n",
    "except KeyError as errormessage:\n",
    "    print(f\"That key {errormessage} is not in the dictionary\")\n",
    "\n",
    "else:\n",
    "    content = file.read()\n",
    "    print(content)\n",
    "    print(dict1[\"1\"])\n",
    "\n",
    "finally:\n",
    "    file.close()\n",
    "    print(\"File was closed\")"
   ]
  },
  {
   "attachments": {},
   "cell_type": "markdown",
   "metadata": {},
   "source": [
    "## Throwing Exceptions\n",
    "\n",
    "We can use the raise keyword to raise our own exceptions. We can even specify the message we want to show when we raise an exception. "
   ]
  },
  {
   "cell_type": "code",
   "execution_count": 23,
   "metadata": {},
   "outputs": [
    {
     "ename": "ValueError",
     "evalue": "Human height cannot be greater than 3meters",
     "output_type": "error",
     "traceback": [
      "\u001b[1;31m---------------------------------------------------------------------------\u001b[0m",
      "\u001b[1;31mValueError\u001b[0m                                Traceback (most recent call last)",
      "\u001b[1;32md:\\Desktop\\Computer\\Python\\100 Days of Python - Udemy\\Day 30\\Day-30.ipynb Cell 6\u001b[0m in \u001b[0;36m<cell line: 4>\u001b[1;34m()\u001b[0m\n\u001b[0;32m      <a href='vscode-notebook-cell:/d%3A/Desktop/Computer/Python/100%20Days%20of%20Python%20-%20Udemy/Day%2030/Day-30.ipynb#X12sZmlsZQ%3D%3D?line=1'>2</a>\u001b[0m weight \u001b[39m=\u001b[39m \u001b[39mfloat\u001b[39m(\u001b[39minput\u001b[39m(\u001b[39m\"\u001b[39m\u001b[39mEnter a weight: \u001b[39m\u001b[39m\"\u001b[39m))\n\u001b[0;32m      <a href='vscode-notebook-cell:/d%3A/Desktop/Computer/Python/100%20Days%20of%20Python%20-%20Udemy/Day%2030/Day-30.ipynb#X12sZmlsZQ%3D%3D?line=3'>4</a>\u001b[0m \u001b[39mif\u001b[39;00m height\u001b[39m>\u001b[39m\u001b[39m3\u001b[39m:\n\u001b[1;32m----> <a href='vscode-notebook-cell:/d%3A/Desktop/Computer/Python/100%20Days%20of%20Python%20-%20Udemy/Day%2030/Day-30.ipynb#X12sZmlsZQ%3D%3D?line=4'>5</a>\u001b[0m     \u001b[39mraise\u001b[39;00m \u001b[39mValueError\u001b[39;00m(\u001b[39m\"\u001b[39m\u001b[39mHuman height cannot be greater than 3meters\u001b[39m\u001b[39m\"\u001b[39m)\n\u001b[0;32m      <a href='vscode-notebook-cell:/d%3A/Desktop/Computer/Python/100%20Days%20of%20Python%20-%20Udemy/Day%2030/Day-30.ipynb#X12sZmlsZQ%3D%3D?line=6'>7</a>\u001b[0m bmi \u001b[39m=\u001b[39m weight\u001b[39m/\u001b[39mheight\u001b[39m*\u001b[39m\u001b[39m*\u001b[39m\u001b[39m2\u001b[39m\n",
      "\u001b[1;31mValueError\u001b[0m: Human height cannot be greater than 3meters"
     ]
    }
   ],
   "source": [
    "height = float(input(\"Enter a height: \"))\n",
    "weight = float(input(\"Enter a weight: \"))\n",
    "\n",
    "if height>3:\n",
    "    raise ValueError(\"Human height cannot be greater than 3meters\")\n",
    "\n",
    "bmi = weight/height**2"
   ]
  },
  {
   "attachments": {},
   "cell_type": "markdown",
   "metadata": {},
   "source": [
    "## JSON Data Format\n",
    "\n",
    "JSON format is a popular format that was created for JavaScript language but it is so easy to use that its used by almost every language to store and transfer data accross the internet. It's kinda similar to dictionaries. JSON is composed of a bunch of nested lists and dictionaries and has a key-value pair structure. It is a text format and is easy to read and write. It is also easy to convert to and from Python dictionaries.\n",
    "\n",
    "To use JSON in python we can use the inbuilt JSON library and it's functions.\n",
    "\n",
    "### Write into JSON\n",
    "\n",
    "We use json.dump() to write into a data file. The data that goes into it must be as a dictionary and we should also specify the json file used. We can also add an argument indent which specifies by how many spaces the file needs to be indented so that it is human readable.\n",
    "\n",
    "### Read from JSON\n",
    "\n",
    "We can read json data using json.load() and we have to add the file object as an argument. It has to be assigned to a variable and the output is of the type dictionary.\n",
    "\n",
    "### Append to a JSON\n",
    "\n",
    "When we use json instead of rewriting the whole file we want to just append the json dictionary with the new data. We heva to read the old data from the file using json.load() then use the update function on the data giving the newer dictionary as argument and then we have to write the updated dictionary into the JSON file.\n",
    "\n",
    "```python\n",
    "with open(\"data.json\", \"r\") as file:\n",
    "    data = json.load(file)  #Loads the contents of the json file to the data variable\n",
    "\n",
    "    data.update(new_data)   #Appends the new dictionary to the data\n",
    "\n",
    "with open(\"data.json\", \"w\") as file:\n",
    "    json.dump(data, file, indent=4)     #Writes the updated data to the json file\n",
    "```"
   ]
  }
 ],
 "metadata": {
  "kernelspec": {
   "display_name": "Udemy_Python_100Days",
   "language": "python",
   "name": "python3"
  },
  "language_info": {
   "codemirror_mode": {
    "name": "ipython",
    "version": 3
   },
   "file_extension": ".py",
   "mimetype": "text/x-python",
   "name": "python",
   "nbconvert_exporter": "python",
   "pygments_lexer": "ipython3",
   "version": "3.10.6 | packaged by conda-forge | (main, Oct 24 2022, 16:02:16) [MSC v.1916 64 bit (AMD64)]"
  },
  "orig_nbformat": 4,
  "vscode": {
   "interpreter": {
    "hash": "1828ef83a9039e523bcd3f28ee015f286e747c7d84db353da49e263841e85bfe"
   }
  }
 },
 "nbformat": 4,
 "nbformat_minor": 2
}
