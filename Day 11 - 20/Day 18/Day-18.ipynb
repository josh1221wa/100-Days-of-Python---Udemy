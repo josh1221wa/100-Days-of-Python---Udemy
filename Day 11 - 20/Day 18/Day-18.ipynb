{
 "cells": [
  {
   "cell_type": "markdown",
   "metadata": {},
   "source": [
    "# Day 18\n",
    "\n",
    "## Turtle Graphics\n",
    "\n",
    "The turtle module is used to create graphics in Python. We can imagine it to be a turtle with a pen on it's back walking on a sheet of paper, and as it moves, it draws on the paper. The turtle module has a number of functions that can be used to move the turtle around the screen. The turtle module is a part of the standard library, so we don't need to install it separately."
   ]
  },
  {
   "cell_type": "code",
   "execution_count": 25,
   "metadata": {},
   "outputs": [],
   "source": [
    "import turtle\n",
    "\n",
    "# Not given in the course but added this line to prevent a Terminator error in python.\n",
    "turtle.TurtleScreen._RUNNING = True\n",
    "\n",
    "# Create the turtle object using the constructor.\n",
    "timmy_the_turtle = turtle.Turtle()\n",
    "timmy_the_turtle.shape(\"turtle\")\n",
    "timmy_the_turtle.color(\"orange\")\n",
    "\n",
    "screen = turtle.Screen()   # Creates the object to show the screen\n",
    "# Only closes the screen when clicked, otherwise the screen would just appear and disappear.\n",
    "screen.exitonclick()\n"
   ]
  },
  {
   "cell_type": "markdown",
   "metadata": {},
   "source": [
    "##### Read the documentation to know the functions of a turtle object.\n",
    "\n",
    "#### Challenge 1: Drawing a square"
   ]
  },
  {
   "cell_type": "code",
   "execution_count": 29,
   "metadata": {},
   "outputs": [],
   "source": [
    "import turtle\n",
    "\n",
    "turtle.TurtleScreen._RUNNING = True\n",
    "\n",
    "turtle_obj = turtle.Turtle()\n",
    "\n",
    "# To center the square\n",
    "turtle_obj.penup()\n",
    "turtle_obj.forward(50)\n",
    "turtle_obj.left(90)\n",
    "turtle_obj.forward(50)\n",
    "turtle_obj.right(180)\n",
    "turtle_obj.pendown()\n",
    "\n",
    "for i in range(4):\n",
    "    turtle_obj.forward(100)\n",
    "    turtle_obj.right(90)\n",
    "\n",
    "screen = turtle.Screen()\n",
    "screen.exitonclick()"
   ]
  },
  {
   "cell_type": "markdown",
   "metadata": {},
   "source": [
    "## Importing Modules\n",
    "\n",
    "TO import a module wholly we can use,\n",
    "\n",
    "```python\n",
    "import module_name\n",
    "```\n",
    "\n",
    "But if we only want to import a class or a function from a module, we can use,\n",
    "\n",
    "```python\n",
    "from module_name import class_name\n",
    "```\n",
    "\n",
    "We can also import all the classes from the module using,\n",
    "\n",
    "```python\n",
    "from module_name import *\n",
    "```\n",
    "\n",
    "It's not recommended to do this as it can cause a lot of confusion.\n",
    "\n",
    "Suppose we have a module with a very long name, we can use an alias for it, to avoid typing the whole name every time.\n",
    "\n",
    "```python\n",
    "import module_name as mn\n",
    "```\n",
    "\n",
    "We can use the alias instead of the module name every time now.\n",
    "\n",
    "Not all modules are inbuilt in python, some are installed separately. We can install them using pip. Pip is a package manager for python. It is used to install and manage software packages written in Python. We can install a package using,\n",
    "\n",
    "```bash\n",
    "pip install package_name\n",
    "```\n",
    "\n",
    "#### Challenge 2: Drawing a dashed line"
   ]
  },
  {
   "cell_type": "code",
   "execution_count": 35,
   "metadata": {},
   "outputs": [],
   "source": [
    "import turtle\n",
    "\n",
    "turtle.TurtleScreen._RUNNING = True\n",
    "\n",
    "turtle_obj = turtle.Turtle()\n",
    "\n",
    "turtle_obj.penup()\n",
    "turtle_obj.backward(100)\n",
    "turtle_obj.pendown()\n",
    "\n",
    "for i in range(10):\n",
    "    turtle_obj.forward(10)\n",
    "    turtle_obj.penup()\n",
    "    turtle_obj.forward(10)\n",
    "    turtle_obj.pendown()\n",
    "\n",
    "screen = turtle.Screen()\n",
    "screen.exitonclick()"
   ]
  },
  {
   "cell_type": "markdown",
   "metadata": {},
   "source": [
    "#### Challenge 3: Drawing different shapes"
   ]
  },
  {
   "cell_type": "code",
   "execution_count": 43,
   "metadata": {},
   "outputs": [],
   "source": [
    "import turtle, random\n",
    "\n",
    "def draw_shape(turtle_obj, sides):\n",
    "    angle = 360/sides\n",
    "    for i in range(sides):\n",
    "        turtle_obj.forward(100)\n",
    "        turtle_obj.right(angle)\n",
    "\n",
    "colors = [\"CornflowerBlue\", \"DarkOrchid\", \"IndianRed\", \"DeepSkyBlue\", \"LightSeaGreen\", \"wheat\", \"SlateGray\", \"SeaGreen\"]\n",
    "\n",
    "\n",
    "turtle.TurtleScreen._RUNNING = True\n",
    "\n",
    "turtle_obj = turtle.Turtle()\n",
    "turtle_obj.penup()\n",
    "turtle_obj.backward(50)\n",
    "turtle_obj.pendown()\n",
    "\n",
    "for i in range(3, 11):\n",
    "    turtle_obj.pencolor(random.choice(colors))\n",
    "    draw_shape(turtle_obj, i)\n",
    "\n",
    "screen = turtle.Screen()\n",
    "screen.exitonclick()\n"
   ]
  },
  {
   "cell_type": "markdown",
   "metadata": {},
   "source": [
    "#### Challenge 4a: Drawing a random walk"
   ]
  },
  {
   "cell_type": "code",
   "execution_count": 46,
   "metadata": {},
   "outputs": [],
   "source": [
    "import turtle\n",
    "import random\n",
    "\n",
    "colors = [\"CornflowerBlue\", \"DarkOrchid\", \"IndianRed\",\n",
    "          \"DeepSkyBlue\", \"LightSeaGreen\", \"wheat\", \"SlateGray\", \"SeaGreen\"]\n",
    "\n",
    "directions = [0, 90, 180, 270]\n",
    "\n",
    "\n",
    "turtle.TurtleScreen._RUNNING = True\n",
    "\n",
    "turtle_obj = turtle.Turtle()\n",
    "turtle_obj.pensize(10)\n",
    "turtle_obj.speed(10)\n",
    "\n",
    "for i in range(100):\n",
    "    turtle_obj.pencolor(random.choice(colors))\n",
    "    direction = random.choice(directions)\n",
    "    turtle_obj.right(direction)\n",
    "    turtle_obj.forward(random.randint(1, 100))\n",
    "\n",
    "screen = turtle.Screen()\n",
    "screen.exitonclick()"
   ]
  },
  {
   "cell_type": "markdown",
   "metadata": {},
   "source": [
    "## Tuples in Python\n",
    "\n",
    "A tuple is a collection which is ordered and unchangeable. In Python tuples are similar to lists but are written with round brackets. They use the same indexing as lists.\n",
    "\n",
    "Tuples are immutable, which means that we cannot change the elements once it has been assigned. Value can't be added or deleted as we can do in a list. You can convert a tuple into a list, change the list, and convert the list back into a tuple."
   ]
  },
  {
   "cell_type": "code",
   "execution_count": 2,
   "metadata": {},
   "outputs": [
    {
     "name": "stdout",
     "output_type": "stream",
     "text": [
      "1\n",
      "[1, 2, 3]\n"
     ]
    },
    {
     "ename": "TypeError",
     "evalue": "'tuple' object does not support item assignment",
     "output_type": "error",
     "traceback": [
      "\u001b[1;31m---------------------------------------------------------------------------\u001b[0m",
      "\u001b[1;31mTypeError\u001b[0m                                 Traceback (most recent call last)",
      "Cell \u001b[1;32mIn [2], line 6\u001b[0m\n\u001b[0;32m      2\u001b[0m \u001b[39mprint\u001b[39m(\u001b[39mtuple\u001b[39m[\u001b[39m0\u001b[39m])\n\u001b[0;32m      4\u001b[0m \u001b[39mprint\u001b[39m(\u001b[39mlist\u001b[39m(\u001b[39mtuple\u001b[39m))\n\u001b[1;32m----> 6\u001b[0m \u001b[39mtuple\u001b[39;49m[\u001b[39m1\u001b[39;49m] \u001b[39m=\u001b[39m \u001b[39m12\u001b[39m\n",
      "\u001b[1;31mTypeError\u001b[0m: 'tuple' object does not support item assignment"
     ]
    }
   ],
   "source": [
    "tuple = (1, 2, 3)\n",
    "print(tuple[0])\n",
    "\n",
    "tuple[1] = 12"
   ]
  },
  {
   "cell_type": "markdown",
   "metadata": {},
   "source": [
    "As we can see, we got the error when we tried to change a value in the tuple. We can convert the tuple into a list, change the value, and convert it back into a tuple as shown below."
   ]
  },
  {
   "cell_type": "code",
   "execution_count": 16,
   "metadata": {},
   "outputs": [
    {
     "name": "stdout",
     "output_type": "stream",
     "text": [
      "(4, 5, 6)\n"
     ]
    }
   ],
   "source": [
    "tuple1 = (1, 2, 3)\n",
    "list_tuple = list(tuple1)\n",
    "\n",
    "list_tuple[0] = 4\n",
    "list_tuple[1] = 5\n",
    "list_tuple[2] = 6\n",
    "\n",
    "tuple1 = tuple(list_tuple)\n",
    "print(tuple1)"
   ]
  },
  {
   "cell_type": "markdown",
   "metadata": {},
   "source": [
    "#### Challenge 4b: Drawing a random walk with randomized color picker.\n",
    "\n",
    "Turtle pen color can be set using rgb values so that's what we are going to do. We will use the random module to generate random numbers for the rgb values."
   ]
  },
  {
   "cell_type": "code",
   "execution_count": 17,
   "metadata": {},
   "outputs": [],
   "source": [
    "import turtle\n",
    "import random\n",
    "\n",
    "def gen_rand_color():\n",
    "    r = random.randint(0, 255)\n",
    "    g = random.randint(0, 255)\n",
    "    b = random.randint(0, 255)\n",
    "\n",
    "    return (r, g, b)\n",
    "\n",
    "directions = [0, 90, 180, 270]\n",
    "\n",
    "turtle.TurtleScreen._RUNNING = True\n",
    "\n",
    "turtle_obj = turtle.Turtle()\n",
    "turtle.colormode(255)   # Tells the main turtle module to look for color values from 0 to 255.\n",
    "turtle_obj.pensize(10)\n",
    "turtle_obj.speed(10)\n",
    "\n",
    "for i in range(100):\n",
    "    turtle_obj.pencolor(gen_rand_color())\n",
    "    direction = random.choice(directions)\n",
    "    turtle_obj.right(direction)\n",
    "    turtle_obj.forward(random.randint(1, 100))\n",
    "\n",
    "screen = turtle.Screen()\n",
    "screen.exitonclick()"
   ]
  },
  {
   "cell_type": "markdown",
   "metadata": {},
   "source": [
    "#### Challenge 5: Drawing a Spirograph"
   ]
  },
  {
   "cell_type": "code",
   "execution_count": 2,
   "metadata": {},
   "outputs": [],
   "source": [
    "import turtle\n",
    "import random\n",
    "\n",
    "def gen_rand_color():\n",
    "    r = random.randint(0, 255)\n",
    "    g = random.randint(0, 255)\n",
    "    b = random.randint(0, 255)\n",
    "\n",
    "    return (r, g, b)\n",
    "\n",
    "turtle.TurtleScreen._RUNNING = True\n",
    "\n",
    "turtle_obj = turtle.Turtle()\n",
    "turtle.colormode(255)   # Tells the main turtle module to look for color values from 0 to 255.\n",
    "turtle_obj.speed(20)\n",
    "\n",
    "for i in range(72):\n",
    "    turtle_obj.pencolor(gen_rand_color())\n",
    "    turtle_obj.circle(100)\n",
    "    turtle_obj.right(5)\n",
    "\n",
    "screen = turtle.Screen()\n",
    "screen.exitonclick()"
   ]
  }
 ],
 "metadata": {
  "kernelspec": {
   "display_name": "Python 3.9.13 ('base')",
   "language": "python",
   "name": "python3"
  },
  "language_info": {
   "codemirror_mode": {
    "name": "ipython",
    "version": 3
   },
   "file_extension": ".py",
   "mimetype": "text/x-python",
   "name": "python",
   "nbconvert_exporter": "python",
   "pygments_lexer": "ipython3",
   "version": "3.9.12"
  },
  "orig_nbformat": 4,
  "vscode": {
   "interpreter": {
    "hash": "52a0e7b4f4c9b93c7568b039447b72228aa9ad72b6466ebee46731f7fd73c837"
   }
  }
 },
 "nbformat": 4,
 "nbformat_minor": 2
}
