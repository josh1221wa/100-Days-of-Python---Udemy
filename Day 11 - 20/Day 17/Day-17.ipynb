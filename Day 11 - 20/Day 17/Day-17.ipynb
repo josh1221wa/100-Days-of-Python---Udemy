{
 "cells": [
  {
   "cell_type": "markdown",
   "metadata": {},
   "source": [
    "# Day 17\n",
    "\n",
    "## Creating a Class\n",
    "\n",
    "We create a class using the `class` keyword. The class name should be in PascalCase(All words are capitalized).\n",
    "\n",
    "```python\n",
    "class User:\n",
    "    pass\n",
    "```\n",
    "\n",
    "NOTE: If there's noting under an indented block, we can use the `pass` keyword to avoid getting an error.\n",
    "\n",
    "After we create an object of a class if we want to add attributes to that object we can use the `.` operator.\n",
    "\n",
    "```python\n",
    "user1 = User()\n",
    "user1.id = \"001\"\n",
    "user1.username = \"angela\"\n",
    "```\n",
    "\n",
    "We can also create a constructor for our class. The constructor is a special method that gets called when we create an object of a class. The constructor is called `__init__` and it takes `self` as a parameter.\n",
    "\n",
    "```python\n",
    "class User:\n",
    "    def __init__(self):\n",
    "        pass\n",
    "```\n",
    "\n",
    "This init statement always runs when a new object is created. We can also add attributes to the object using the `self` keyword. We can pass in parameters to the constructor and use them to set the attributes of the object.\n",
    "\n",
    "```python\n",
    "class User:\n",
    "    def __init__(self, user_id, username):\n",
    "        self.id = user_id   # self.id is the attribute of the object and it is assigned the value of user_id\n",
    "        self.username = username\n",
    "        self.followers = 0  # We can also set default values for the attributes and since the value will be the same for all objects we need not pass it in the constructor.\n",
    "```\n",
    "\n",
    "Now whenever we create a new object of the class, we have to pass in the parameters with it."
   ]
  },
  {
   "cell_type": "code",
   "execution_count": 3,
   "metadata": {},
   "outputs": [
    {
     "name": "stdout",
     "output_type": "stream",
     "text": [
      "001\n",
      "002\n"
     ]
    }
   ],
   "source": [
    "class User:\n",
    "    def __init__(self, user_id, username):\n",
    "        self.id = user_id\n",
    "        self.username = username\n",
    "        self.followers = 0\n",
    "        self.following = 0\n",
    "\n",
    "user1 = User(\"001\", \"angela\")   #We are passing the values for the constructor\n",
    "user2 = User(\"002\", \"james\")\n",
    "\n",
    "print(user1.id)\n",
    "print(user2.id)"
   ]
  },
  {
   "cell_type": "markdown",
   "metadata": {},
   "source": [
    "To make class methods we use just have to create a function inside the class. The first parameter of the function should be `self`. It knows the class that calls it when we use the self keyword. We can also use the self keyword to access the attributes of the object without needing to pass them to the function one by one."
   ]
  },
  {
   "cell_type": "code",
   "execution_count": 4,
   "metadata": {},
   "outputs": [
    {
     "name": "stdout",
     "output_type": "stream",
     "text": [
      "1\n",
      "1\n"
     ]
    }
   ],
   "source": [
    "class User:\n",
    "    def __init__(self, user_id, username):\n",
    "        self.id = user_id\n",
    "        self.username = username\n",
    "        self.followers = 0\n",
    "        self.following = 0\n",
    "\n",
    "    def follow(self, user): # The first parameter is self and the second is the user we want to follow\n",
    "        user.followers += 1 #The user will gain a follower \n",
    "        self.following += 1 #The user who is following will gain a following\n",
    "\n",
    "\n",
    "user1 = User(\"001\", \"angela\")\n",
    "user2 = User(\"002\", \"james\")\n",
    "\n",
    "user1.follow(user2)\n",
    "print(user1.following)\n",
    "print(user2.followers)"
   ]
  }
 ],
 "metadata": {
  "kernelspec": {
   "display_name": "Python 3.9.13 ('base')",
   "language": "python",
   "name": "python3"
  },
  "language_info": {
   "codemirror_mode": {
    "name": "ipython",
    "version": 3
   },
   "file_extension": ".py",
   "mimetype": "text/x-python",
   "name": "python",
   "nbconvert_exporter": "python",
   "pygments_lexer": "ipython3",
   "version": "3.9.13"
  },
  "orig_nbformat": 4,
  "vscode": {
   "interpreter": {
    "hash": "52a0e7b4f4c9b93c7568b039447b72228aa9ad72b6466ebee46731f7fd73c837"
   }
  }
 },
 "nbformat": 4,
 "nbformat_minor": 2
}
