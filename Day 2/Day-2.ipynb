{
 "cells": [
  {
   "cell_type": "markdown",
   "metadata": {},
   "source": [
    "# Day 2\n",
    "\n",
    "## Datatypes in Python\n",
    "\n",
    "### Strings\n",
    "\n",
    "We saw strings in Day-1. A string is text and are generally flanked by double-quotes.\n",
    "\n",
    "We can get one character at a specific position of a string using <u><b>subscripting</u></b>."
   ]
  },
  {
   "cell_type": "code",
   "execution_count": null,
   "metadata": {},
   "outputs": [],
   "source": [
    "str1 = \"Hello\"\n",
    "print(str1[0])"
   ]
  },
  {
   "cell_type": "markdown",
   "metadata": {},
   "source": [
    "As we can see we used suscripting to get the first character in the given string. Note that [] are used and inside the square brackets we have a value. This value is called the <b><u>index</u></b>.\n",
    "\n",
    "<u>Note</u> : The index always starts with 0. So the first position of the string is at index 0 and the second position is at index 1 and so on... The last position is at index n-1 (where n is the number of characters in the string.)\n",
    "\n",
    "If any text is enclosed with double quotes it's a string even numbers. For example,"
   ]
  },
  {
   "cell_type": "code",
   "execution_count": null,
   "metadata": {},
   "outputs": [],
   "source": [
    "num1 = \"123\"\n",
    "num2 = \"345\"\n",
    "print(num1 + num2)"
   ]
  },
  {
   "cell_type": "markdown",
   "metadata": {},
   "source": [
    "This just does concatenation as both are still strings."
   ]
  },
  {
   "cell_type": "markdown",
   "metadata": {},
   "source": [
    "### Integer\n",
    "\n",
    "These are just integer numbers without any decimal points. To write this we just give the number as value. It need not be enclosed in anything.\n",
    "\n",
    "When we write large numbers we write it as 12,582. In python the commas may be replaced with _ and the computer will just ignore it when doing operations. We humans will have the benefit when we read it"
   ]
  },
  {
   "cell_type": "code",
   "execution_count": null,
   "metadata": {},
   "outputs": [],
   "source": [
    "print(123)\n",
    "print(123_234)"
   ]
  },
  {
   "cell_type": "markdown",
   "metadata": {},
   "source": [
    "### Float\n",
    "\n",
    "It's short for a floating point number. These numbers have decimal places."
   ]
  },
  {
   "cell_type": "markdown",
   "metadata": {},
   "source": [
    "### Boolean\n",
    "\n",
    "Boolean can have only 2 possible values True or False. These are used in conditions. These are not strings they are not enclosed in quotes"
   ]
  },
  {
   "cell_type": "markdown",
   "metadata": {},
   "source": [
    "## The Type Error\n",
    "\n",
    "When we give a value of the wrong datatype to a function we get a TypeError. For example, The len function cannot take int values as arguments."
   ]
  },
  {
   "cell_type": "code",
   "execution_count": null,
   "metadata": {},
   "outputs": [],
   "source": [
    "print(len(234))"
   ]
  },
  {
   "cell_type": "markdown",
   "metadata": {},
   "source": [
    "We cannot concatenate integers with strings we also get a TypeErrors.\n",
    "\n",
    "## Typechecking\n",
    "\n",
    "We can use the function type() and pass the data as an argument and we get the type of the data. This is helpful to know what type your data is."
   ]
  },
  {
   "cell_type": "code",
   "execution_count": null,
   "metadata": {},
   "outputs": [],
   "source": [
    "print(type(234))\n",
    "print(type(234.0))\n",
    "print(type(\"234\"))\n",
    "print(type(True))"
   ]
  },
  {
   "cell_type": "markdown",
   "metadata": {},
   "source": [
    "## Typecasting/Typeconversion\n",
    "\n",
    "If we want to interchage types in python we can use <u><b>typecasting</u></b>.\n",
    "\n",
    "### Convert an integer to string\n",
    "\n",
    "We can convert an integer value into a string using str() function with integer as argument and it will convert it into a string. We can then use it like a string with len function, concatenation, etc."
   ]
  },
  {
   "cell_type": "code",
   "execution_count": null,
   "metadata": {},
   "outputs": [],
   "source": [
    "n = 123\n",
    "print(type(n))\n",
    "\n",
    "n = str(n)\n",
    "print(type(n))"
   ]
  },
  {
   "cell_type": "markdown",
   "metadata": {},
   "source": [
    "Like this we can convert a lot of data to different types. Below you can see an integer converted to string, float and back to an integer"
   ]
  },
  {
   "cell_type": "code",
   "execution_count": null,
   "metadata": {},
   "outputs": [],
   "source": [
    "n = 123\n",
    "print(type(n))\n",
    "\n",
    "n = str(n)\n",
    "print(type(n))\n",
    "\n",
    "n = float(n)\n",
    "print(type(n))\n",
    "\n",
    "n = int(n)\n",
    "print(type(n))"
   ]
  },
  {
   "cell_type": "markdown",
   "metadata": {},
   "source": [
    "## Mathematical Operators in Python\n",
    "\n",
    "- \"+\" is for Addition\n",
    "- \"-\" is for Subtraction\n",
    "- \"*\" is for Multiplication\n",
    "- \"/\" is for Division\n",
    "- \"**\" is for exponentiation"
   ]
  },
  {
   "cell_type": "code",
   "execution_count": null,
   "metadata": {},
   "outputs": [],
   "source": [
    "print(3+5)\n",
    "\n",
    "print(5-3)\n",
    "\n",
    "print(5*2)\n",
    "\n",
    "print(6/3)\n",
    "\n",
    "print(2**2)"
   ]
  },
  {
   "cell_type": "markdown",
   "metadata": {},
   "source": [
    "We can see that division will always give a float value as output."
   ]
  },
  {
   "cell_type": "markdown",
   "metadata": {},
   "source": [
    "### Priority of Operators\n",
    "\n",
    "When there are multiple operators in one line of code there is a certain preference given to each operator. \n",
    "\n",
    "The order of precedence is \n",
    "\n",
    "() > * / > + -\n",
    "\n",
    "Note: If two operators are of equal importance we have to do calculation from left to right\n",
    "\n",
    "We can use () to do some calculation with a lower precedence operator first\n"
   ]
  },
  {
   "cell_type": "code",
   "execution_count": null,
   "metadata": {},
   "outputs": [],
   "source": [
    "print(3+3/3)\n",
    "\n",
    "print((3+3)/3)"
   ]
  },
  {
   "cell_type": "markdown",
   "metadata": {},
   "source": [
    "## Number Manipulation\n",
    "\n",
    "Suppose we do a division with a long decimal answer (eg: 8/3). We can use the round function passing the expression as argument."
   ]
  },
  {
   "cell_type": "code",
   "execution_count": null,
   "metadata": {},
   "outputs": [],
   "source": [
    "print(8/3)\n",
    "\n",
    "print(round(8/3))"
   ]
  },
  {
   "cell_type": "markdown",
   "metadata": {},
   "source": [
    "We can also round to the number of decimal places we want using a second argument."
   ]
  },
  {
   "cell_type": "code",
   "execution_count": null,
   "metadata": {},
   "outputs": [],
   "source": [
    "print(round(8/3, 2))"
   ]
  },
  {
   "cell_type": "markdown",
   "metadata": {},
   "source": [
    "Another way is to use a new operator //. This is called <u><b>floor division</b></u>. This will return the answer as the nearest whole number lesser than the decimal answer."
   ]
  },
  {
   "cell_type": "code",
   "execution_count": null,
   "metadata": {},
   "outputs": [],
   "source": [
    "print(8//3)"
   ]
  },
  {
   "cell_type": "markdown",
   "metadata": {},
   "source": [
    "We can also shorten our code lines by using special operators that replace long operations. For example we can replace x = x + y with x += y"
   ]
  },
  {
   "cell_type": "code",
   "execution_count": null,
   "metadata": {},
   "outputs": [],
   "source": [
    "result = 4\n",
    "result += 2\n",
    "result /= 3"
   ]
  },
  {
   "cell_type": "markdown",
   "metadata": {},
   "source": [
    "## F-Strings\n",
    "\n",
    "When we try to concatenate an integer to a string we have to convert it to a string and then concatenate which will get tiresome when we have a lot of integers involved. A convenient way of incorporating things which have different datatypes are called <u><b>F-Strings</b></u>"
   ]
  },
  {
   "cell_type": "code",
   "execution_count": null,
   "metadata": {},
   "outputs": [],
   "source": [
    "score = input(\"Enter score: \")\n",
    "height = 1.67\n",
    "\n",
    "print(f\"Score is {score}, your height is {height}\")"
   ]
  },
  {
   "cell_type": "markdown",
   "metadata": {},
   "source": [
    "As we can see using f-strings just require us to put an \"f\" before the string and then add the variable name in {}. The conversion and concatenation will be done automatically."
   ]
  }
 ],
 "metadata": {
  "kernelspec": {
   "display_name": "Python 3 (ipykernel)",
   "language": "python",
   "name": "python3"
  },
  "language_info": {
   "codemirror_mode": {
    "name": "ipython",
    "version": 3
   },
   "file_extension": ".py",
   "mimetype": "text/x-python",
   "name": "python",
   "nbconvert_exporter": "python",
   "pygments_lexer": "ipython3",
   "version": "3.10.4"
  },
  "vscode": {
   "interpreter": {
    "hash": "3fdbe576eb87f4baba6a23725f58c8da03c0612f6b5c93b1de163eb7f05251e9"
   }
  }
 },
 "nbformat": 4,
 "nbformat_minor": 4
}
