{
 "cells": [
  {
   "cell_type": "markdown",
   "metadata": {},
   "source": [
    "# Day 8\n",
    "\n",
    "## Functions with Inputs\n",
    "\n",
    "When we create a function without inputs mostly it's going to repeat the same output over and over again and in most cases functions aren't built to repeat the same output over and over again. So, we need to make our functions dynamic and for that we need to pass inputs to our functions.\n",
    "\n",
    "Now we can add data inside the parantheses so thet the function can use that data to do a certain task and the data can also be changed the change the output. See the example below."
   ]
  },
  {
   "cell_type": "code",
   "execution_count": 4,
   "metadata": {},
   "outputs": [
    {
     "name": "stdout",
     "output_type": "stream",
     "text": [
      "Hello\n",
      "How are you?\n",
      "Hello John\n",
      "How are you John?\n"
     ]
    }
   ],
   "source": [
    "# Simple Function\n",
    "def simple_function():\n",
    "    print(\"Hello\")\n",
    "    print(\"How are you?\")\n",
    "\n",
    "simple_function()\n",
    "\n",
    "def function_with_arguments(name):\n",
    "    print(\"Hello \" + name)\n",
    "    print(\"How are you \" + name + \"?\")\n",
    "\n",
    "function_with_arguments(\"John\")"
   ]
  },
  {
   "cell_type": "markdown",
   "metadata": {},
   "source": [
    "So here we see that the in the function the name will be given the value \"John\" and it will be run. Now the name variable is called a parameter and the value \"John\" is called an argument. So, the parameter is the variable that will be used inside the function and the argument is the value that will be passed to the function.\n",
    "\n",
    "## Positional Arguments vs Keyword Arguments\n",
    "\n",
    "When we write a function with more than 1 parameters the necessary arguments must be passed in the same order as the parameters. These are called positional arguments. See the example below."
   ]
  },
  {
   "cell_type": "code",
   "execution_count": 7,
   "metadata": {},
   "outputs": [
    {
     "name": "stdout",
     "output_type": "stream",
     "text": [
      "Hello John from USA\n",
      "Hello USA from John\n"
     ]
    }
   ],
   "source": [
    "def print_hello(name, location):\n",
    "    print(\"Hello \" + name + \" from \" + location)\n",
    "\n",
    "print_hello(\"John\", \"USA\")\n",
    "print_hello(\"USA\", \"John\")"
   ]
  },
  {
   "cell_type": "markdown",
   "metadata": {},
   "source": [
    "Here we can see that when the same arguments were swapped the output was different. So, the arguments must be passed in the same order as the parameters. Now, we can also pass the arguments in the same order as the parameters but we can also pass the arguments by their names. These are called keyword arguments. See the example below. In keyword arguments the order of the arguments doesn't matter."
   ]
  },
  {
   "cell_type": "code",
   "execution_count": 9,
   "metadata": {},
   "outputs": [
    {
     "name": "stdout",
     "output_type": "stream",
     "text": [
      "Hello John from USA\n",
      "Hello John from USA\n"
     ]
    }
   ],
   "source": [
    "def print_hello(name, location):\n",
    "    print(\"Hello \" + name + \" from \" + location)\n",
    "\n",
    "print_hello(name = \"John\", location = \"USA\")\n",
    "print_hello(location = \"USA\", name = \"John\")"
   ]
  },
  {
   "cell_type": "markdown",
   "metadata": {},
   "source": [
    "Here we can see that the order of the arguments don't matter as long as they are assigned to the right parameters. So, positional arguments are the arguments that are passed in the same order as the parameters and keyword arguments are the arguments that are passed by their names."
   ]
  },
  {
   "cell_type": "markdown",
   "metadata": {},
   "source": [
    "## Caeser Cipher\n",
    "\n",
    "### Caesar Cipher Part 1 - Encryption"
   ]
  },
  {
   "cell_type": "code",
   "execution_count": 15,
   "metadata": {},
   "outputs": [
    {
     "name": "stdout",
     "output_type": "stream",
     "text": [
      "The encoded text is mjqqt\n"
     ]
    }
   ],
   "source": [
    "alphabet = ['a', 'b', 'c', 'd', 'e', 'f', 'g', 'h', 'i', 'j', 'k', 'l',\n",
    "            'm', 'n', 'o', 'p', 'q', 'r', 's', 't', 'u', 'v', 'w', 'x', 'y', 'z', ]\n",
    "\n",
    "direction = input(\"Type 'encode' to encrypt, type 'decode' to decrypt:\\n\")\n",
    "text = input(\"Type your message:\\n\").lower()\n",
    "shift = int(input(\"Type the shift number:\\n\"))\n",
    "\n",
    "#TODO-1: Create a function called 'encrypt' that takes the 'text' and 'shift' as inputs.\n",
    "def encrypt(text, shift):\n",
    "    encrypted_text = \"\"\n",
    "\n",
    "    #TODO-2: Inside the 'encrypt' function, shift each letter of the 'text' forwards in the alphabet by the shift amount and print the encrypted text.\n",
    "    #e.g.\n",
    "    #plain_text = \"hello\"\n",
    "    #shift = 5\n",
    "    #cipher_text = \"mjqqt\"\n",
    "    #print output: \"The encoded text is mjqqt\"\n",
    "\n",
    "    for letter in text:\n",
    "        index = alphabet.index(letter)\n",
    "        new_index = (index + shift) % 26\n",
    "        encrypted_text += alphabet[new_index]\n",
    "    print(\"The encoded text is \" + encrypted_text)\n",
    "\n",
    "##HINT: How do you get the index of an item in a list:\n",
    "#https://stackoverflow.com/questions/176918/finding-the-index-of-an-item-in-a-list\n",
    "\n",
    "##🐛Bug alert: What happens if you try to encode the word 'civilization'?🐛\n",
    "\n",
    "#TODO-3: Call the encrypt function and pass in the user inputs. You should be able to test the code and encrypt a message.\n",
    "encrypt(text, shift)"
   ]
  },
  {
   "cell_type": "markdown",
   "metadata": {},
   "source": [
    "## Caesar Cipher Part 2 - Decryption"
   ]
  },
  {
   "cell_type": "code",
   "execution_count": 17,
   "metadata": {},
   "outputs": [
    {
     "name": "stdout",
     "output_type": "stream",
     "text": [
      "The decrypted text is hello\n"
     ]
    }
   ],
   "source": [
    "alphabet = ['a', 'b', 'c', 'd', 'e', 'f', 'g', 'h', 'i', 'j', 'k', 'l',\n",
    "            'm', 'n', 'o', 'p', 'q', 'r', 's', 't', 'u', 'v', 'w', 'x', 'y', 'z', ]\n",
    "\n",
    "direction = input(\"Type 'encode' to encrypt, type 'decode' to decrypt:\\n\")\n",
    "text = input(\"Type your message:\\n\").lower()\n",
    "shift = int(input(\"Type the shift number:\\n\"))\n",
    "\n",
    "def encrypt(text, shift):\n",
    "    encrypted_text = \"\"\n",
    "\n",
    "    for letter in text:\n",
    "        index = alphabet.index(letter)\n",
    "        new_index = (index + shift) % 26\n",
    "        encrypted_text += alphabet[new_index]\n",
    "    print(\"The encoded text is \" + encrypted_text)\n",
    "\n",
    "#TODO-1: Create a different function called 'decrypt' that takes the 'text' and 'shift' as inputs.\n",
    "\n",
    "#TODO-2: Inside the 'decrypt' function, shift each letter of the 'text' *backwards* in the alphabet by the shift amount and print the decrypted text.\n",
    "  #e.g.\n",
    "  #cipher_text = \"mjqqt\"\n",
    "  #shift = 5\n",
    "  #plain_text = \"hello\"\n",
    "  #print output: \"The decoded text is hello\"\n",
    "\n",
    "def decrypt(text, shift):\n",
    "    decrypted_text = \"\"\n",
    "\n",
    "    for letter in text:\n",
    "        index = alphabet.index(letter)\n",
    "        new_index = (index - shift) % 26\n",
    "        decrypted_text += alphabet[new_index]\n",
    "    print(\"The decrypted text is \" + decrypted_text)\n",
    "\n",
    "\n",
    "#TODO-3: Check if the user wanted to encrypt or decrypt the message by checking the 'direction' variable. Then call the correct function based on that 'direction' variable. You should be able to test the code to encrypt *AND* decrypt a message.\n",
    "\n",
    "if direction == \"encode\":\n",
    "    encrypt(text, shift)\n",
    "elif direction == \"decode\":\n",
    "    decrypt(text, shift)"
   ]
  }
 ],
 "metadata": {
  "kernelspec": {
   "display_name": "Python 3.9.13 ('base')",
   "language": "python",
   "name": "python3"
  },
  "language_info": {
   "codemirror_mode": {
    "name": "ipython",
    "version": 3
   },
   "file_extension": ".py",
   "mimetype": "text/x-python",
   "name": "python",
   "nbconvert_exporter": "python",
   "pygments_lexer": "ipython3",
   "version": "3.9.13"
  },
  "orig_nbformat": 4,
  "vscode": {
   "interpreter": {
    "hash": "52a0e7b4f4c9b93c7568b039447b72228aa9ad72b6466ebee46731f7fd73c837"
   }
  }
 },
 "nbformat": 4,
 "nbformat_minor": 2
}
