{
 "cells": [
  {
   "cell_type": "markdown",
   "metadata": {},
   "source": [
    "# Day 9\n",
    "\n",
    "## Dictionaries in Python\n",
    "\n",
    "Dictionaries allow us to group together related pieces of information. A dictionary has two parts -  a key and a value. A dictionary looks like this - {Key:Value}. We can have multiple key-value pairs like this in one dictionary."
   ]
  },
  {
   "cell_type": "code",
   "execution_count": 27,
   "metadata": {},
   "outputs": [],
   "source": [
    "programming_dictionary = {\n",
    "    \"Bug\" : \"An error in the code that causes the program to fail\",\n",
    "    \"Function\" : \"A group of statements that perform a specific task\",\n",
    "}"
   ]
  },
  {
   "cell_type": "markdown",
   "metadata": {},
   "source": [
    "In python we use an index to access a value in it. But in dictionaries we just use the key to access it's value."
   ]
  },
  {
   "cell_type": "code",
   "execution_count": 28,
   "metadata": {},
   "outputs": [
    {
     "name": "stdout",
     "output_type": "stream",
     "text": [
      "An error in the code that causes the program to fail\n"
     ]
    }
   ],
   "source": [
    "print(programming_dictionary[\"Bug\"])"
   ]
  },
  {
   "cell_type": "markdown",
   "metadata": {},
   "source": [
    "Entering a key that is not in the dictionary gives a KeyError"
   ]
  },
  {
   "cell_type": "markdown",
   "metadata": {},
   "source": [
    "### Add new item to dictionary\n",
    "\n",
    "We can add new items to dictioary by just assigning a key to a value."
   ]
  },
  {
   "cell_type": "code",
   "execution_count": 29,
   "metadata": {},
   "outputs": [
    {
     "name": "stdout",
     "output_type": "stream",
     "text": [
      "{'Bug': 'An error in the code that causes the program to fail', 'Function': 'A group of statements that perform a specific task', 'Loop': 'The action of doing something over and over again.'}\n"
     ]
    }
   ],
   "source": [
    "programming_dictionary[\"Loop\"] = \"The action of doing something over and over again.\"\n",
    "\n",
    "print(programming_dictionary)"
   ]
  },
  {
   "cell_type": "markdown",
   "metadata": {},
   "source": [
    "We can create an empty dictionary by just assigning it to {}. We can also delete all contents of an existing dictionary the same way."
   ]
  },
  {
   "cell_type": "code",
   "execution_count": 30,
   "metadata": {},
   "outputs": [
    {
     "name": "stdout",
     "output_type": "stream",
     "text": [
      "{}\n"
     ]
    }
   ],
   "source": [
    "programming_dictionary = {}\n",
    "print(programming_dictionary)"
   ]
  },
  {
   "cell_type": "markdown",
   "metadata": {},
   "source": [
    "To change the value of a key in a dictionary we just assign it to a new value."
   ]
  },
  {
   "cell_type": "code",
   "execution_count": 31,
   "metadata": {},
   "outputs": [
    {
     "name": "stdout",
     "output_type": "stream",
     "text": [
      "A moth in your computer\n"
     ]
    }
   ],
   "source": [
    "programming_dictionary[\"Bug\"] = \"A moth in your computer\"\n",
    "\n",
    "print(programming_dictionary[\"Bug\"])"
   ]
  },
  {
   "cell_type": "markdown",
   "metadata": {},
   "source": [
    "### Looping through a dictionary"
   ]
  },
  {
   "cell_type": "code",
   "execution_count": 32,
   "metadata": {},
   "outputs": [
    {
     "name": "stdout",
     "output_type": "stream",
     "text": [
      "Bug\n"
     ]
    }
   ],
   "source": [
    "for key in programming_dictionary:\n",
    "    print(key)"
   ]
  },
  {
   "cell_type": "markdown",
   "metadata": {},
   "source": [
    "Here we see that the loop iterates only through the keys and prints them. To get the value just use []."
   ]
  },
  {
   "cell_type": "code",
   "execution_count": 33,
   "metadata": {},
   "outputs": [
    {
     "name": "stdout",
     "output_type": "stream",
     "text": [
      "A moth in your computer\n"
     ]
    }
   ],
   "source": [
    "for key in programming_dictionary:\n",
    "    print(programming_dictionary[key])"
   ]
  },
  {
   "cell_type": "markdown",
   "metadata": {},
   "source": [
    "## Nesting\n",
    "\n",
    "We have seen that we can have multiple key value pairs in a dictionary. We can also have dictionaries and lists as values in the dictionaries. This is called nesting. It helps in storing more complex structures."
   ]
  },
  {
   "cell_type": "code",
   "execution_count": 34,
   "metadata": {},
   "outputs": [],
   "source": [
    "# Nest List in a dictionary\n",
    "\n",
    "travel_log = {\n",
    "    \"France\" : [\"Paris\", \"Lille\", \"Dijon\"], \n",
    "    \"Germany\" : [\"Berlin\", \"Hamburg\", \"Stuttgart\"]}\n",
    "\n",
    "# Nest dictionary in a dictionary\n",
    "\n",
    "travel_log = {\n",
    "    \"France\" : {\"cities-visited\" : [\"Paris\", \"Lille\", \"Dijon\"], \"total_visits\" : 12}, \n",
    "    \"Germany\" : {\"cities-visited\" : [\"Berlin\", \"Hamburg\", \"Stuttgart\"], \"total_visits\" : 5}\n",
    "}\n",
    "\n",
    "# Nest dictionary inside a list\n",
    "travel_log = [\n",
    "    {\n",
    "     \"country\" : \"France\", \n",
    "     \"cities-visited\" : [\"Paris\", \"Lille\", \"Dijon\"], \n",
    "     \"total_visits\" : 12\n",
    "    }, \n",
    "    {\n",
    "     \"country\" : \"Germany\", \n",
    "     \"cities-visited\" : [\"Berlin\", \"Hamburg\", \"Stuttgart\"], \n",
    "     \"total_visits\" : 5\n",
    "    }\n",
    "]"
   ]
  }
 ],
 "metadata": {
  "kernelspec": {
   "display_name": "Python 3 (ipykernel)",
   "language": "python",
   "name": "python3"
  },
  "language_info": {
   "codemirror_mode": {
    "name": "ipython",
    "version": 3
   },
   "file_extension": ".py",
   "mimetype": "text/x-python",
   "name": "python",
   "nbconvert_exporter": "python",
   "pygments_lexer": "ipython3",
   "version": "3.10.4"
  },
  "vscode": {
   "interpreter": {
    "hash": "3fdbe576eb87f4baba6a23725f58c8da03c0612f6b5c93b1de163eb7f05251e9"
   }
  }
 },
 "nbformat": 4,
 "nbformat_minor": 4
}
