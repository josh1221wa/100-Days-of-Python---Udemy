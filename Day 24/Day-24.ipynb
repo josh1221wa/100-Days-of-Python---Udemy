{
 "cells": [
  {
   "cell_type": "markdown",
   "metadata": {},
   "source": [
    "# Day 24\n",
    "\n",
    "## Reading and Writing into Files\n",
    "\n",
    "We can open up text files in Python using the open function. The open function is inbuilt into Python and takes 2 main arguments: the file name and the mode. The mode can be either read or write. If we want to read a file, we use the mode 'r'. If we want to write to a file, we use the mode 'w'. If we want to append to a file, we use the mode 'a'. If we want to read and write to a file, we use the mode 'r+'. By default it opens in read mode.\n"
   ]
  },
  {
   "cell_type": "code",
   "execution_count": 2,
   "metadata": {},
   "outputs": [
    {
     "name": "stdout",
     "output_type": "stream",
     "text": [
      "Hello there\n"
     ]
    }
   ],
   "source": [
    "file = open(\"Example Files/hello.txt\")\n",
    "contents = file.read()\n",
    "print(contents)\n",
    "file.close()"
   ]
  },
  {
   "cell_type": "markdown",
   "metadata": {},
   "source": [
    "Here we see the file being read by the Python program and its contents being printed out. We have to give the path to the actual file for it to open. \n",
    "\n",
    "We also need to close the file in the code as opening the file takes up certain resources and we need to free them up once we are done with the file. We can do this by using the close() function on the file object.\n",
    "\n",
    "To avoid having to close the file manually, we can use the with statement. The with statement will automatically close the file once the code block is executed. This is the preferred way of opening files in Python."
   ]
  },
  {
   "cell_type": "code",
   "execution_count": 3,
   "metadata": {},
   "outputs": [
    {
     "name": "stdout",
     "output_type": "stream",
     "text": [
      "Hello there\n"
     ]
    }
   ],
   "source": [
    "with open(\"Example Files/hello.txt\") as file:\n",
    "    contents = file.read()\n",
    "    print(contents)"
   ]
  },
  {
   "cell_type": "markdown",
   "metadata": {},
   "source": [
    "To write into the file we can use the write function which works the same way as the read function. Make sure to open the file in write mode. If the file does not exist, it will be created. If the file exists, it will be erased and written."
   ]
  },
  {
   "cell_type": "code",
   "execution_count": 4,
   "metadata": {},
   "outputs": [],
   "source": [
    "with open(\"Example Files/hello.txt\", mode = \"w\") as file:\n",
    "    file.write(\"Hello there\")"
   ]
  },
  {
   "cell_type": "markdown",
   "metadata": {},
   "source": [
    "If we don't want to erase the file and we just want to add to the end of it, we can use the append mode."
   ]
  },
  {
   "cell_type": "code",
   "execution_count": null,
   "metadata": {},
   "outputs": [],
   "source": [
    "with open(\"Example Files/hello.txt\", mode = \"a\") as file:\n",
    "    file.write(\", my name is Joshua\")"
   ]
  }
 ],
 "metadata": {
  "kernelspec": {
   "display_name": "Python 3.10.6 ('Udemy_Python_100Days')",
   "language": "python",
   "name": "python3"
  },
  "language_info": {
   "codemirror_mode": {
    "name": "ipython",
    "version": 3
   },
   "file_extension": ".py",
   "mimetype": "text/x-python",
   "name": "python",
   "nbconvert_exporter": "python",
   "pygments_lexer": "ipython3",
   "version": "3.10.6"
  },
  "orig_nbformat": 4,
  "vscode": {
   "interpreter": {
    "hash": "1828ef83a9039e523bcd3f28ee015f286e747c7d84db353da49e263841e85bfe"
   }
  }
 },
 "nbformat": 4,
 "nbformat_minor": 2
}
