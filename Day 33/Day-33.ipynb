{
 "cells": [
  {
   "attachments": {},
   "cell_type": "markdown",
   "metadata": {},
   "source": [
    "# Day 33\n",
    "\n",
    "## Application Programming Interfaces(API)\n",
    "\n",
    "An API is a set of commands, functions, protocols and objects that programmers can use to access external systems. i.e. we can use API to access data from other websites. It acts as an interface between our program and an external system.\n",
    "\n",
    "For example, Yahoo Weather has an API to access their weather data and we can use it to get the weather data for any city in the world in our program.\n",
    "\n",
    "### API Endpoints\n",
    "\n",
    "An API endpoint is like a location that we can access to get the data. It's usually just a url. For example, the api endpoint for coinbase is api.coinbase.com. \n",
    "\n",
    "### API Request\n",
    "\n",
    "An API request is a request to an API endpoint to get some data. For example, we can make a request to the coinbase api endpoint to get the current price of bitcoin. The API gives you the data in JSON format.\n",
    "\n",
    "\n",
    "To use APIs we have to use the requests library in python. We can install it using pip.\n",
    "\n",
    "``` bash\n",
    "pip install requests\n",
    "```\n",
    "Now to make a request to an API endpoint we can use the get method of the requests library. It will take the url of the API endpoint as an argument and return a response object."
   ]
  },
  {
   "cell_type": "code",
   "execution_count": 1,
   "metadata": {},
   "outputs": [
    {
     "name": "stdout",
     "output_type": "stream",
     "text": [
      "<Response [200]>\n"
     ]
    }
   ],
   "source": [
    "import requests\n",
    "\n",
    "response = requests.get(url=\"http://api.open-notify.org/iss-now.json\")  # Shows location of ISS\n",
    "print(response)"
   ]
  },
  {
   "attachments": {},
   "cell_type": "markdown",
   "metadata": {},
   "source": [
    "As we can see above, we get a response code instead of actual JSON data. Response codes are important because they tell us if the request was successful or not. We can identify the response code by the first digit.\n",
    "\n",
    "<ul>\n",
    "<li>1xx - Hold On/Wait</li>\n",
    "<li>2xx - Success</li>\n",
    "<li>3xx - Redirect</li>\n",
    "<li>4xx - User Error</li>\n",
    "<li>5xx - Server Error</li>\n",
    "</ul>\n",
    "\n",
    "Now if we want only the status code instead of the response object, we can use the status_code attribute of the response object."
   ]
  },
  {
   "cell_type": "code",
   "execution_count": 3,
   "metadata": {},
   "outputs": [
    {
     "name": "stdout",
     "output_type": "stream",
     "text": [
      "200\n"
     ]
    }
   ],
   "source": [
    "import requests\n",
    "\n",
    "response = requests.get(url=\"http://api.open-notify.org/iss-now.json\")\n",
    "print(response.status_code)"
   ]
  },
  {
   "attachments": {},
   "cell_type": "markdown",
   "metadata": {},
   "source": [
    "Now say we get a request error and we want to raise an exception, we can use the raise_for_status method of the response object instead of raising exceptions manually. It will throw a HTTPError exception if the status code is not 200."
   ]
  },
  {
   "cell_type": "code",
   "execution_count": 7,
   "metadata": {},
   "outputs": [
    {
     "name": "stdout",
     "output_type": "stream",
     "text": [
      "404\n",
      "404 Client Error: Not Found for url: http://api.open-notify.org/iss-no.json\n"
     ]
    }
   ],
   "source": [
    "import requests\n",
    "\n",
    "try:\n",
    "    response = requests.get(url=\"http://api.open-notify.org/iss-no.json\")\n",
    "    print(response.status_code)\n",
    "    response.raise_for_status()\n",
    "except requests.HTTPError as e:\n",
    "    print(e)"
   ]
  },
  {
   "attachments": {},
   "cell_type": "markdown",
   "metadata": {},
   "source": [
    "### Get the data from the API\n",
    "\n",
    "To get the JSON response from the API, we can use the json method of the response object and assign it to a variable. This will give us a dictionary with the data."
   ]
  },
  {
   "cell_type": "code",
   "execution_count": 8,
   "metadata": {},
   "outputs": [
    {
     "name": "stdout",
     "output_type": "stream",
     "text": [
      "{'iss_position': {'longitude': '90.2012', 'latitude': '-6.8256'}, 'message': 'success', 'timestamp': 1671018124}\n"
     ]
    }
   ],
   "source": [
    "import requests\n",
    "\n",
    "response = requests.get(url=\"http://api.open-notify.org/iss-now.json\")\n",
    "data = response.json()\n",
    "print(data)"
   ]
  },
  {
   "attachments": {},
   "cell_type": "markdown",
   "metadata": {},
   "source": [
    "### API Parameters\n",
    "\n",
    "API parameters allow us to give inputs into out API to get a specific output. For example, we can give the city name as a parameter to the Yahoo Weather API to get the weather data for that specific city. Same as functions, some parameters are required and others are optional. We give in parameters as a dictionary to the get method as the argument params. "
   ]
  },
  {
   "cell_type": "code",
   "execution_count": 11,
   "metadata": {},
   "outputs": [
    {
     "name": "stdout",
     "output_type": "stream",
     "text": [
      "{'results': {'sunrise': '2022-12-14T14:28:03+00:00', 'sunset': '2022-12-14T23:45:29+00:00', 'solar_noon': '2022-12-14T19:06:46+00:00', 'day_length': 33446, 'civil_twilight_begin': '2022-12-14T13:58:34+00:00', 'civil_twilight_end': '2022-12-15T00:14:59+00:00', 'nautical_twilight_begin': '2022-12-14T13:23:54+00:00', 'nautical_twilight_end': '2022-12-15T00:49:38+00:00', 'astronomical_twilight_begin': '2022-12-14T12:50:23+00:00', 'astronomical_twilight_end': '2022-12-15T01:23:09+00:00'}, 'status': 'OK'}\n"
     ]
    }
   ],
   "source": [
    "import requests\n",
    "\n",
    "MY_LAT = 41.138936\n",
    "MY_LONG = -107.999999\n",
    "\n",
    "parameters = {\n",
    "    \"lat\" : MY_LAT,\n",
    "    \"lng\" : MY_LONG,\n",
    "    \"formatted\" : 0\n",
    "}\n",
    "\n",
    "response = requests.get(url=\"https://api.sunrise-sunset.org/json\", params=parameters)\n",
    "data = response.json()\n",
    "print(data)"
   ]
  }
 ],
 "metadata": {
  "kernelspec": {
   "display_name": "Udemy_Python_100Days",
   "language": "python",
   "name": "python3"
  },
  "language_info": {
   "codemirror_mode": {
    "name": "ipython",
    "version": 3
   },
   "file_extension": ".py",
   "mimetype": "text/x-python",
   "name": "python",
   "nbconvert_exporter": "python",
   "pygments_lexer": "ipython3",
   "version": "3.10.6"
  },
  "orig_nbformat": 4,
  "vscode": {
   "interpreter": {
    "hash": "1828ef83a9039e523bcd3f28ee015f286e747c7d84db353da49e263841e85bfe"
   }
  }
 },
 "nbformat": 4,
 "nbformat_minor": 2
}
