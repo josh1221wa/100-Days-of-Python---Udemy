{
 "cells": [
  {
   "cell_type": "markdown",
   "id": "40dfc999-2c91-4a29-a148-55b7e155fa65",
   "metadata": {},
   "source": [
    "# Day 6\n",
    "\n",
    "## Python Functions\n",
    "\n",
    "Functions are used to do certain functionalities or tasks for which they have been defined. \n",
    "\n",
    "Python has a lot of built in functions. Most common we know is print() which is used to print some text to the console.\n",
    "\n",
    "When we look at a function we can see that its like <function_name>(). Now in print() if we put some text in the parantheses we can see that it gets printed onto the console. All functions work pretty much the same way. We call the function and put some value in the (). So because of () we know it's a function.\n",
    "\n",
    "## Making our own functions\n",
    "\n",
    "We start out using a keyword \"def\". And then we give the function name. After that we use a : so that every line below it that is indented is under the function. "
   ]
  },
  {
   "cell_type": "code",
   "execution_count": 2,
   "id": "858b90f5-e845-4556-97ac-77c9b94e28eb",
   "metadata": {},
   "outputs": [
    {
     "name": "stdout",
     "output_type": "stream",
     "text": [
      "Hello\n"
     ]
    }
   ],
   "source": [
    "def my_function():\n",
    "    print(\"Hello\")\n",
    "    \n",
    "my_function()"
   ]
  },
  {
   "cell_type": "markdown",
   "id": "3eb23b0a-176b-4b92-be4c-8aac0e2d4ebc",
   "metadata": {},
   "source": [
    "We can see that after defining the functions we have to call it in the program for it to work. Again the INDENTATION IS IMPORTANT.\n",
    "\n",
    "## Why functions?\n",
    "\n",
    "If we want to repeat a code multiple times we can just define it in a function and just call the function whenever we want that particular task to be done. We don't have to keep writing the same lines of code again and again.\n",
    "\n",
    "## Indentation\n",
    "\n",
    "Indentation is very important for python functions. Under the function definition if the lines are indented they are part of the function. Indentation is important for functions, loops, if statements, etc.\n",
    "\n",
    "## While Loops\n",
    "\n",
    "While loops check a given condition and if is True, only then will it run the statements. If the condition is false if will not run. After the statements are run, the condition is checked once again.\n",
    "\n",
    "### Syntax\n",
    "\n",
    "```python\n",
    "while (condition):\n",
    "    Statement\n",
    "```"
   ]
  },
  {
   "cell_type": "code",
   "execution_count": 3,
   "id": "a6901a66-fbe9-4646-ab0e-d6c32c6966a2",
   "metadata": {},
   "outputs": [
    {
     "name": "stdout",
     "output_type": "stream",
     "text": [
      "3\n",
      "2\n",
      "1\n"
     ]
    }
   ],
   "source": [
    "a = 3\n",
    "while a != 0:\n",
    "    print(a)\n",
    "    a -= 1"
   ]
  },
  {
   "cell_type": "markdown",
   "id": "998de52b-d806-4ed1-ade4-6a42349cabd0",
   "metadata": {},
   "source": [
    "### Infinite Loops\n",
    "\n",
    "If we have a while loop with a condition that's always True then we get an infinite loop which will keep running forever."
   ]
  }
 ],
 "metadata": {
  "kernelspec": {
   "display_name": "Python 3 (ipykernel)",
   "language": "python",
   "name": "python3"
  },
  "language_info": {
   "codemirror_mode": {
    "name": "ipython",
    "version": 3
   },
   "file_extension": ".py",
   "mimetype": "text/x-python",
   "name": "python",
   "nbconvert_exporter": "python",
   "pygments_lexer": "ipython3",
   "version": "3.10.4"
  }
 },
 "nbformat": 4,
 "nbformat_minor": 5
}
